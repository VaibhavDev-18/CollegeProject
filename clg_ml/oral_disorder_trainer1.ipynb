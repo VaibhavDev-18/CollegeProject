{
 "cells": [
  {
   "cell_type": "code",
   "execution_count": 22,
   "id": "55e5bdb4-c4d6-46e2-971a-1258a970e8cf",
   "metadata": {},
   "outputs": [],
   "source": [
    "import os\n",
    "import tensorflow as tf\n",
    "from tensorflow.keras.applications import DenseNet121\n",
    "from tensorflow.keras.models import Model\n",
    "from tensorflow.keras.layers import GlobalAveragePooling2D, Dense, Dropout, BatchNormalization, Input, Multiply, Reshape, Activation\n",
    "from tensorflow.keras.preprocessing.image import ImageDataGenerator\n",
    "from tensorflow.keras.optimizers import Adam\n",
    "from tensorflow.keras.preprocessing import image\n",
    "from tensorflow.keras.callbacks import EarlyStopping, ReduceLROnPlateau, ModelCheckpoint\n",
    "from sklearn.metrics import classification_report, confusion_matrix\n",
    "import numpy as np\n",
    "import matplotlib.pyplot as plt\n",
    "import seaborn as sns"
   ]
  },
  {
   "cell_type": "code",
   "execution_count": 3,
   "id": "da14e715-daca-4037-b5c1-e1826aebc9aa",
   "metadata": {},
   "outputs": [],
   "source": [
    "# ========== CONFIG ==========\n",
    "IMG_SIZE = (224, 224)\n",
    "BATCH_SIZE = 32\n",
    "EPOCHS_PHASE_1 = 10\n",
    "EPOCHS_PHASE_2 = 30\n",
    "LEARNING_RATE_PHASE_1 = 1e-4\n",
    "LEARNING_RATE_PHASE_2 = 1e-5\n",
    "UNFREEZE_LAYERS = 50"
   ]
  },
  {
   "cell_type": "code",
   "execution_count": 20,
   "id": "498f136e-3df1-4107-98d1-b0e390bd2a47",
   "metadata": {},
   "outputs": [],
   "source": [
    "BASE_DIR = \"/mnt/k/ml/clg_ml/domain_specific_classification\"\n",
    "train_dir = os.path.join(BASE_DIR, \"train/oral_disorder\")\n",
    "val_dir = os.path.join(BASE_DIR, \"val/oral_disorder\")\n",
    "test_dir = os.path.join(BASE_DIR, \"test/oral_disorder\")\n",
    "MODEL_PATH = \"oral_disorder_model.h5\"\n",
    "google_images_dir = '/mnt/k/ml/clg_ml/imgs_from_google/domainSpecificClassifier/oral_disorders/'\n",
    "class_labels = ['hypodontia', 'mouth_ulcers']"
   ]
  },
  {
   "cell_type": "code",
   "execution_count": 5,
   "id": "173a4d8d-9c6a-4f2f-b413-828e7f8b12f1",
   "metadata": {},
   "outputs": [],
   "source": [
    "# ========== SE BLOCK ==========\n",
    "def squeeze_excite_block(input_tensor, ratio=16):\n",
    "    '''Create a squeeze and excitation block'''\n",
    "    filters = input_tensor.shape[-1]\n",
    "    se = tf.keras.layers.GlobalAveragePooling2D()(input_tensor)\n",
    "    se = Reshape((1, 1, filters))(se)\n",
    "    se = Dense(filters // ratio, activation='relu', kernel_initializer='he_normal', use_bias=False)(se)\n",
    "    se = Dense(filters, activation='sigmoid', kernel_initializer='he_normal', use_bias=False)(se)\n",
    "    x = Multiply()([input_tensor, se])\n",
    "    return x"
   ]
  },
  {
   "cell_type": "code",
   "execution_count": 6,
   "id": "0632647c-0a19-41b1-bcfc-b36eee7683da",
   "metadata": {},
   "outputs": [],
   "source": [
    "# ========== DATA ==========\n",
    "def create_generators():\n",
    "    train_gen = ImageDataGenerator(\n",
    "        rescale=1./255,\n",
    "        rotation_range=15,\n",
    "        width_shift_range=0.1,\n",
    "        height_shift_range=0.1,\n",
    "        shear_range=0.1,\n",
    "        zoom_range=0.1,\n",
    "        horizontal_flip=True,\n",
    "        fill_mode='nearest'\n",
    "    ).flow_from_directory(train_dir, target_size=IMG_SIZE, batch_size=BATCH_SIZE, class_mode='categorical', shuffle=True)\n",
    "\n",
    "    val_gen = ImageDataGenerator(rescale=1./255).flow_from_directory(val_dir, target_size=IMG_SIZE, batch_size=BATCH_SIZE, class_mode='categorical', shuffle=False)\n",
    "    test_gen = ImageDataGenerator(rescale=1./255).flow_from_directory(test_dir, target_size=IMG_SIZE, batch_size=BATCH_SIZE, class_mode='categorical', shuffle=False)\n",
    "    return train_gen, val_gen, test_gen"
   ]
  },
  {
   "cell_type": "code",
   "execution_count": 7,
   "id": "dee2bd61-4ebd-42aa-a757-a412bc697e30",
   "metadata": {},
   "outputs": [],
   "source": [
    "# ========== MODEL ==========\n",
    "def build_model(num_classes):\n",
    "    base = DenseNet121(weights='imagenet', include_top=False, input_shape=(224, 224, 3))\n",
    "    base.trainable = False  # Phase 1: freeze backbone\n",
    "\n",
    "    x = base.output\n",
    "    x = squeeze_excite_block(x)  # <-- Attention block here\n",
    "\n",
    "    x = GlobalAveragePooling2D()(x)\n",
    "    x = BatchNormalization()(x)\n",
    "    x = Dense(256, activation='relu')(x)\n",
    "    x = Dropout(0.3)(x)\n",
    "    x = Dense(128, activation='relu')(x)\n",
    "    x = Dropout(0.2)(x)\n",
    "    output = Dense(num_classes, activation='softmax')(x)\n",
    "\n",
    "    return Model(inputs=base.input, outputs=output), base"
   ]
  },
  {
   "cell_type": "code",
   "execution_count": 11,
   "id": "5b425965-06c5-4967-994d-b5d74c60cefa",
   "metadata": {},
   "outputs": [],
   "source": [
    "# ========== TRAINING ==========\n",
    "def train_model():\n",
    "    train_gen, val_gen, test_gen = create_generators()\n",
    "    model, base_model = build_model(num_classes=2)\n",
    "\n",
    "    # Phase 1: Train top classifier\n",
    "    print(\"🔹 Phase 1: Training classifier head...\")\n",
    "    model.compile(optimizer=Adam(LEARNING_RATE_PHASE_1), loss='categorical_crossentropy', metrics=['accuracy'])\n",
    "\n",
    "    callbacks = [\n",
    "        EarlyStopping(patience=5, restore_best_weights=True, monitor='val_loss'),\n",
    "        ReduceLROnPlateau(patience=3, factor=0.2, min_lr=1e-6),\n",
    "        ModelCheckpoint(MODEL_PATH, save_best_only=True, monitor='val_accuracy', verbose=1)\n",
    "    ]\n",
    "\n",
    "    model.fit(train_gen, validation_data=val_gen, epochs=EPOCHS_PHASE_1, callbacks=callbacks)\n",
    "\n",
    "    # Phase 2: Fine-tuning last N layers\n",
    "    print(\"🔹 Phase 2: Fine-tuning base model...\")\n",
    "    base_model.trainable = True\n",
    "    for layer in base_model.layers[:-UNFREEZE_LAYERS]:\n",
    "        layer.trainable = False\n",
    "\n",
    "    model.compile(optimizer=Adam(LEARNING_RATE_PHASE_2), loss='categorical_crossentropy', metrics=['accuracy'])\n",
    "    model.fit(train_gen, validation_data=val_gen, epochs=EPOCHS_PHASE_2, callbacks=callbacks)\n",
    "\n",
    "    # Load best weights before evaluation\n",
    "    print(\"📦 Loading best model weights...\")\n",
    "    model.load_weights(MODEL_PATH)\n",
    "\n",
    "    # Final evaluation\n",
    "    evaluate_model(model, test_gen)"
   ]
  },
  {
   "cell_type": "code",
   "execution_count": 12,
   "id": "df6dae89-58bc-49bc-8307-455928377d82",
   "metadata": {},
   "outputs": [],
   "source": [
    "def evaluate_model(model, test_gen):\n",
    "    print(\"📊 Evaluating model on test set...\")\n",
    "    test_gen.reset()\n",
    "    \n",
    "    y_true = test_gen.classes\n",
    "    class_labels = list(test_gen.class_indices.keys())\n",
    "    \n",
    "    # Predict probabilities\n",
    "    y_pred_probs = model.predict(test_gen, verbose=1)\n",
    "    y_pred = np.argmax(y_pred_probs, axis=1)\n",
    "\n",
    "    # Accuracy\n",
    "    accuracy = np.sum(y_true == y_pred) / len(y_true)\n",
    "    print(f\"\\n✅ Test Accuracy: {accuracy:.4f}\\n\")\n",
    "\n",
    "    # Classification Report\n",
    "    print(\"📄 Classification Report:\")\n",
    "    print(classification_report(y_true, y_pred, target_names=class_labels))\n",
    "\n",
    "    # Confusion Matrix\n",
    "    print(\"🔁 Confusion Matrix:\")\n",
    "    cm = confusion_matrix(y_true, y_pred)\n",
    "    plt.figure(figsize=(6, 5))\n",
    "    sns.heatmap(cm, annot=True, fmt=\"d\", cmap=\"Blues\", xticklabels=class_labels, yticklabels=class_labels)\n",
    "    plt.xlabel(\"Predicted\")\n",
    "    plt.ylabel(\"Actual\")\n",
    "    plt.title(\"Confusion Matrix\")\n",
    "    plt.tight_layout()\n",
    "    plt.show()"
   ]
  },
  {
   "cell_type": "code",
   "execution_count": 14,
   "id": "abb99083-4fab-4f34-b237-56790cc2d16b",
   "metadata": {},
   "outputs": [],
   "source": [
    "def preprocess_image(img_path):\n",
    "    img = image.load_img(img_path, target_size=IMG_SIZE)\n",
    "    img_array = image.img_to_array(img)\n",
    "    img_array = np.expand_dims(img_array, axis=0)  # Add batch dimension\n",
    "    img_array = img_array / 255.0  # Normalize\n",
    "    return img_array"
   ]
  },
  {
   "cell_type": "code",
   "execution_count": 17,
   "id": "e67715b2-4ec1-489d-b353-625d518afbe4",
   "metadata": {},
   "outputs": [],
   "source": [
    "def classify_images():\n",
    "    model = tf.keras.models.load_model(MODEL_PATH)\n",
    "    print(f\"🔍 Loaded model from: {MODEL_PATH}\")\n",
    "\n",
    "    image_files = [f for f in os.listdir(google_images_dir)\n",
    "                   if f.lower().endswith(('.jpg', '.jpeg', '.png', '.bmp', '.webp'))]\n",
    "\n",
    "    if not image_files:\n",
    "        print(\"❌ No images found in directory.\")\n",
    "        return\n",
    "\n",
    "    print(f\"\\n🧪 Classifying {len(image_files)} images from: {google_images_dir}\\n\")\n",
    "\n",
    "    for img_file in sorted(image_files):\n",
    "        img_path = os.path.join(google_images_dir, img_file)\n",
    "        img_array = preprocess_image(img_path)\n",
    "\n",
    "        preds = model.predict(img_array, verbose=0)\n",
    "        pred_index = np.argmax(preds[0])\n",
    "        confidence = preds[0][pred_index] * 100\n",
    "\n",
    "        predicted_class = class_labels[pred_index]\n",
    "        print(f\"{img_file} → Predicted: {predicted_class} ({confidence:.2f}%)\")"
   ]
  },
  {
   "cell_type": "code",
   "execution_count": 13,
   "id": "7d5ab40f-5a6d-4d44-86c6-2b831ed7af83",
   "metadata": {},
   "outputs": [
    {
     "name": "stdout",
     "output_type": "stream",
     "text": [
      "Found 4379 images belonging to 2 classes.\n",
      "Found 540 images belonging to 2 classes.\n",
      "Found 540 images belonging to 2 classes.\n"
     ]
    },
    {
     "name": "stderr",
     "output_type": "stream",
     "text": [
      "WARNING: All log messages before absl::InitializeLog() is called are written to STDERR\n",
      "I0000 00:00:1759999396.909380   27723 gpu_device.cc:2020] Created device /job:localhost/replica:0/task:0/device:GPU:0 with 3618 MB memory:  -> device: 0, name: NVIDIA GeForce RTX 3050 6GB Laptop GPU, pci bus id: 0000:01:00.0, compute capability: 8.6\n"
     ]
    },
    {
     "name": "stdout",
     "output_type": "stream",
     "text": [
      "🔹 Phase 1: Training classifier head...\n"
     ]
    },
    {
     "name": "stderr",
     "output_type": "stream",
     "text": [
      "/mnt/k/ml/clg_ml/venv/lib/python3.10/site-packages/keras/src/trainers/data_adapters/py_dataset_adapter.py:121: UserWarning: Your `PyDataset` class should call `super().__init__(**kwargs)` in its constructor. `**kwargs` can include `workers`, `use_multiprocessing`, `max_queue_size`. Do not pass these arguments to `fit()`, as they will be ignored.\n",
      "  self._warn_if_super_not_called()\n"
     ]
    },
    {
     "name": "stdout",
     "output_type": "stream",
     "text": [
      "Epoch 1/10\n"
     ]
    },
    {
     "name": "stderr",
     "output_type": "stream",
     "text": [
      "2025-10-09 14:13:28.918941: I external/local_xla/xla/service/service.cc:163] XLA service 0x7f023c089970 initialized for platform CUDA (this does not guarantee that XLA will be used). Devices:\n",
      "2025-10-09 14:13:28.918975: I external/local_xla/xla/service/service.cc:171]   StreamExecutor device (0): NVIDIA GeForce RTX 3050 6GB Laptop GPU, Compute Capability 8.6\n",
      "2025-10-09 14:13:29.250323: I tensorflow/compiler/mlir/tensorflow/utils/dump_mlir_util.cc:269] disabling MLIR crash reproducer, set env var `MLIR_CRASH_REPRODUCER_DIRECTORY` to enable.\n",
      "2025-10-09 14:13:30.805374: I external/local_xla/xla/stream_executor/cuda/cuda_dnn.cc:473] Loaded cuDNN version 91300\n",
      "2025-10-09 14:13:31.231113: I external/local_xla/xla/service/gpu/autotuning/dot_search_space.cc:208] All configs were filtered out because none of them sufficiently match the hints. Maybe the hints set does not contain a good representative set of valid configs? Working around this by using the full hints set instead.\n",
      "2025-10-09 14:13:31.233538: I external/local_xla/xla/service/gpu/autotuning/dot_search_space.cc:208] All configs were filtered out because none of them sufficiently match the hints. Maybe the hints set does not contain a good representative set of valid configs? Working around this by using the full hints set instead.\n",
      "2025-10-09 14:13:31.233699: I external/local_xla/xla/service/gpu/autotuning/dot_search_space.cc:208] All configs were filtered out because none of them sufficiently match the hints. Maybe the hints set does not contain a good representative set of valid configs? Working around this by using the full hints set instead.\n",
      "2025-10-09 14:13:31.233728: I external/local_xla/xla/service/gpu/autotuning/dot_search_space.cc:208] All configs were filtered out because none of them sufficiently match the hints. Maybe the hints set does not contain a good representative set of valid configs? Working around this by using the full hints set instead.\n",
      "2025-10-09 14:13:32.260119: I external/local_xla/xla/stream_executor/cuda/subprocess_compilation.cc:346] ptxas warning : Registers are spilled to local memory in function 'gemm_fusion_dot_11943', 16 bytes spill stores, 16 bytes spill loads\n",
      "\n",
      "2025-10-09 14:13:32.913887: I external/local_xla/xla/stream_executor/cuda/subprocess_compilation.cc:346] ptxas warning : Registers are spilled to local memory in function 'gemm_fusion_dot_13395', 520 bytes spill stores, 520 bytes spill loads\n",
      "\n",
      "2025-10-09 14:13:33.747413: I external/local_xla/xla/stream_executor/cuda/subprocess_compilation.cc:346] ptxas warning : Registers are spilled to local memory in function 'gemm_fusion_dot_13411', 520 bytes spill stores, 520 bytes spill loads\n",
      "\n",
      "I0000 00:00:1759999434.851744   27977 device_compiler.h:196] Compiled cluster using XLA!  This line is logged at most once for the lifetime of the process.\n"
     ]
    },
    {
     "name": "stdout",
     "output_type": "stream",
     "text": [
      "\u001b[1m 43/137\u001b[0m \u001b[32m━━━━━━\u001b[0m\u001b[37m━━━━━━━━━━━━━━\u001b[0m \u001b[1m37s\u001b[0m 402ms/step - accuracy: 0.5817 - loss: 0.7063"
     ]
    },
    {
     "name": "stderr",
     "output_type": "stream",
     "text": [
      "2025-10-09 14:14:14.600354: I external/local_xla/xla/service/gpu/autotuning/dot_search_space.cc:208] All configs were filtered out because none of them sufficiently match the hints. Maybe the hints set does not contain a good representative set of valid configs? Working around this by using the full hints set instead.\n",
      "2025-10-09 14:14:14.600433: I external/local_xla/xla/service/gpu/autotuning/dot_search_space.cc:208] All configs were filtered out because none of them sufficiently match the hints. Maybe the hints set does not contain a good representative set of valid configs? Working around this by using the full hints set instead.\n",
      "2025-10-09 14:14:14.944652: I external/local_xla/xla/stream_executor/cuda/subprocess_compilation.cc:346] ptxas warning : Registers are spilled to local memory in function 'gemm_fusion_dot_11943', 16 bytes spill stores, 16 bytes spill loads\n",
      "\n"
     ]
    },
    {
     "name": "stdout",
     "output_type": "stream",
     "text": [
      "\u001b[1m137/137\u001b[0m \u001b[32m━━━━━━━━━━━━━━━━━━━━\u001b[0m\u001b[37m\u001b[0m \u001b[1m0s\u001b[0m 557ms/step - accuracy: 0.7123 - loss: 0.5377"
     ]
    },
    {
     "name": "stderr",
     "output_type": "stream",
     "text": [
      "2025-10-09 14:15:14.446278: I external/local_xla/xla/service/gpu/autotuning/dot_search_space.cc:208] All configs were filtered out because none of them sufficiently match the hints. Maybe the hints set does not contain a good representative set of valid configs? Working around this by using the full hints set instead.\n",
      "2025-10-09 14:15:14.861272: I external/local_xla/xla/stream_executor/cuda/subprocess_compilation.cc:346] ptxas warning : Registers are spilled to local memory in function 'gemm_fusion_dot_3399', 8 bytes spill stores, 8 bytes spill loads\n",
      "\n",
      "2025-10-09 14:15:15.318796: I external/local_xla/xla/stream_executor/cuda/subprocess_compilation.cc:346] ptxas warning : Registers are spilled to local memory in function 'gemm_fusion_dot_3406', 20 bytes spill stores, 20 bytes spill loads\n",
      "\n",
      "2025-10-09 14:15:26.338467: I external/local_xla/xla/service/gpu/autotuning/dot_search_space.cc:208] All configs were filtered out because none of them sufficiently match the hints. Maybe the hints set does not contain a good representative set of valid configs? Working around this by using the full hints set instead.\n"
     ]
    },
    {
     "name": "stdout",
     "output_type": "stream",
     "text": [
      "\n",
      "Epoch 1: val_accuracy improved from None to 0.93333, saving model to oral_disorder_model.h5\n"
     ]
    },
    {
     "name": "stderr",
     "output_type": "stream",
     "text": [
      "WARNING:absl:You are saving your model as an HDF5 file via `model.save()` or `keras.saving.save_model(model)`. This file format is considered legacy. We recommend using instead the native Keras format, e.g. `model.save('my_model.keras')` or `keras.saving.save_model(model, 'my_model.keras')`. \n"
     ]
    },
    {
     "name": "stdout",
     "output_type": "stream",
     "text": [
      "\u001b[1m137/137\u001b[0m \u001b[32m━━━━━━━━━━━━━━━━━━━━\u001b[0m\u001b[37m\u001b[0m \u001b[1m145s\u001b[0m 823ms/step - accuracy: 0.8246 - loss: 0.3799 - val_accuracy: 0.9333 - val_loss: 0.2344 - learning_rate: 1.0000e-04\n",
      "Epoch 2/10\n",
      "\u001b[1m137/137\u001b[0m \u001b[32m━━━━━━━━━━━━━━━━━━━━\u001b[0m\u001b[37m\u001b[0m \u001b[1m0s\u001b[0m 265ms/step - accuracy: 0.9398 - loss: 0.1681\n",
      "Epoch 2: val_accuracy improved from 0.93333 to 0.97407, saving model to oral_disorder_model.h5\n"
     ]
    },
    {
     "name": "stderr",
     "output_type": "stream",
     "text": [
      "WARNING:absl:You are saving your model as an HDF5 file via `model.save()` or `keras.saving.save_model(model)`. This file format is considered legacy. We recommend using instead the native Keras format, e.g. `model.save('my_model.keras')` or `keras.saving.save_model(model, 'my_model.keras')`. \n"
     ]
    },
    {
     "name": "stdout",
     "output_type": "stream",
     "text": [
      "\u001b[1m137/137\u001b[0m \u001b[32m━━━━━━━━━━━━━━━━━━━━\u001b[0m\u001b[37m\u001b[0m \u001b[1m40s\u001b[0m 292ms/step - accuracy: 0.9434 - loss: 0.1576 - val_accuracy: 0.9741 - val_loss: 0.1072 - learning_rate: 1.0000e-04\n",
      "Epoch 3/10\n",
      "\u001b[1m137/137\u001b[0m \u001b[32m━━━━━━━━━━━━━━━━━━━━\u001b[0m\u001b[37m\u001b[0m \u001b[1m0s\u001b[0m 281ms/step - accuracy: 0.9548 - loss: 0.1178\n",
      "Epoch 3: val_accuracy improved from 0.97407 to 0.99444, saving model to oral_disorder_model.h5\n"
     ]
    },
    {
     "name": "stderr",
     "output_type": "stream",
     "text": [
      "WARNING:absl:You are saving your model as an HDF5 file via `model.save()` or `keras.saving.save_model(model)`. This file format is considered legacy. We recommend using instead the native Keras format, e.g. `model.save('my_model.keras')` or `keras.saving.save_model(model, 'my_model.keras')`. \n"
     ]
    },
    {
     "name": "stdout",
     "output_type": "stream",
     "text": [
      "\u001b[1m137/137\u001b[0m \u001b[32m━━━━━━━━━━━━━━━━━━━━\u001b[0m\u001b[37m\u001b[0m \u001b[1m42s\u001b[0m 307ms/step - accuracy: 0.9559 - loss: 0.1140 - val_accuracy: 0.9944 - val_loss: 0.0376 - learning_rate: 1.0000e-04\n",
      "Epoch 4/10\n",
      "\u001b[1m137/137\u001b[0m \u001b[32m━━━━━━━━━━━━━━━━━━━━\u001b[0m\u001b[37m\u001b[0m \u001b[1m0s\u001b[0m 264ms/step - accuracy: 0.9682 - loss: 0.0905\n",
      "Epoch 4: val_accuracy improved from 0.99444 to 0.99630, saving model to oral_disorder_model.h5\n"
     ]
    },
    {
     "name": "stderr",
     "output_type": "stream",
     "text": [
      "WARNING:absl:You are saving your model as an HDF5 file via `model.save()` or `keras.saving.save_model(model)`. This file format is considered legacy. We recommend using instead the native Keras format, e.g. `model.save('my_model.keras')` or `keras.saving.save_model(model, 'my_model.keras')`. \n"
     ]
    },
    {
     "name": "stdout",
     "output_type": "stream",
     "text": [
      "\u001b[1m137/137\u001b[0m \u001b[32m━━━━━━━━━━━━━━━━━━━━\u001b[0m\u001b[37m\u001b[0m \u001b[1m39s\u001b[0m 286ms/step - accuracy: 0.9692 - loss: 0.0903 - val_accuracy: 0.9963 - val_loss: 0.0243 - learning_rate: 1.0000e-04\n",
      "Epoch 5/10\n",
      "\u001b[1m137/137\u001b[0m \u001b[32m━━━━━━━━━━━━━━━━━━━━\u001b[0m\u001b[37m\u001b[0m \u001b[1m0s\u001b[0m 257ms/step - accuracy: 0.9767 - loss: 0.0725\n",
      "Epoch 5: val_accuracy improved from 0.99630 to 0.99815, saving model to oral_disorder_model.h5\n"
     ]
    },
    {
     "name": "stderr",
     "output_type": "stream",
     "text": [
      "WARNING:absl:You are saving your model as an HDF5 file via `model.save()` or `keras.saving.save_model(model)`. This file format is considered legacy. We recommend using instead the native Keras format, e.g. `model.save('my_model.keras')` or `keras.saving.save_model(model, 'my_model.keras')`. \n"
     ]
    },
    {
     "name": "stdout",
     "output_type": "stream",
     "text": [
      "\u001b[1m137/137\u001b[0m \u001b[32m━━━━━━━━━━━━━━━━━━━━\u001b[0m\u001b[37m\u001b[0m \u001b[1m38s\u001b[0m 279ms/step - accuracy: 0.9740 - loss: 0.0760 - val_accuracy: 0.9981 - val_loss: 0.0171 - learning_rate: 1.0000e-04\n",
      "Epoch 6/10\n",
      "\u001b[1m137/137\u001b[0m \u001b[32m━━━━━━━━━━━━━━━━━━━━\u001b[0m\u001b[37m\u001b[0m \u001b[1m0s\u001b[0m 264ms/step - accuracy: 0.9747 - loss: 0.0673\n",
      "Epoch 6: val_accuracy did not improve from 0.99815\n",
      "\u001b[1m137/137\u001b[0m \u001b[32m━━━━━━━━━━━━━━━━━━━━\u001b[0m\u001b[37m\u001b[0m \u001b[1m38s\u001b[0m 279ms/step - accuracy: 0.9788 - loss: 0.0599 - val_accuracy: 0.9981 - val_loss: 0.0137 - learning_rate: 1.0000e-04\n",
      "Epoch 7/10\n",
      "\u001b[1m137/137\u001b[0m \u001b[32m━━━━━━━━━━━━━━━━━━━━\u001b[0m\u001b[37m\u001b[0m \u001b[1m0s\u001b[0m 259ms/step - accuracy: 0.9834 - loss: 0.0422\n",
      "Epoch 7: val_accuracy did not improve from 0.99815\n",
      "\u001b[1m137/137\u001b[0m \u001b[32m━━━━━━━━━━━━━━━━━━━━\u001b[0m\u001b[37m\u001b[0m \u001b[1m38s\u001b[0m 274ms/step - accuracy: 0.9810 - loss: 0.0450 - val_accuracy: 0.9981 - val_loss: 0.0077 - learning_rate: 1.0000e-04\n",
      "Epoch 8/10\n",
      "\u001b[1m137/137\u001b[0m \u001b[32m━━━━━━━━━━━━━━━━━━━━\u001b[0m\u001b[37m\u001b[0m \u001b[1m0s\u001b[0m 266ms/step - accuracy: 0.9847 - loss: 0.0467\n",
      "Epoch 8: val_accuracy improved from 0.99815 to 1.00000, saving model to oral_disorder_model.h5\n"
     ]
    },
    {
     "name": "stderr",
     "output_type": "stream",
     "text": [
      "WARNING:absl:You are saving your model as an HDF5 file via `model.save()` or `keras.saving.save_model(model)`. This file format is considered legacy. We recommend using instead the native Keras format, e.g. `model.save('my_model.keras')` or `keras.saving.save_model(model, 'my_model.keras')`. \n"
     ]
    },
    {
     "name": "stdout",
     "output_type": "stream",
     "text": [
      "\u001b[1m137/137\u001b[0m \u001b[32m━━━━━━━━━━━━━━━━━━━━\u001b[0m\u001b[37m\u001b[0m \u001b[1m40s\u001b[0m 288ms/step - accuracy: 0.9849 - loss: 0.0447 - val_accuracy: 1.0000 - val_loss: 0.0063 - learning_rate: 1.0000e-04\n",
      "Epoch 9/10\n",
      "\u001b[1m137/137\u001b[0m \u001b[32m━━━━━━━━━━━━━━━━━━━━\u001b[0m\u001b[37m\u001b[0m \u001b[1m0s\u001b[0m 259ms/step - accuracy: 0.9911 - loss: 0.0347\n",
      "Epoch 9: val_accuracy did not improve from 1.00000\n",
      "\u001b[1m137/137\u001b[0m \u001b[32m━━━━━━━━━━━━━━━━━━━━\u001b[0m\u001b[37m\u001b[0m \u001b[1m37s\u001b[0m 273ms/step - accuracy: 0.9872 - loss: 0.0400 - val_accuracy: 1.0000 - val_loss: 0.0049 - learning_rate: 1.0000e-04\n",
      "Epoch 10/10\n",
      "\u001b[1m137/137\u001b[0m \u001b[32m━━━━━━━━━━━━━━━━━━━━\u001b[0m\u001b[37m\u001b[0m \u001b[1m0s\u001b[0m 264ms/step - accuracy: 0.9895 - loss: 0.0347\n",
      "Epoch 10: val_accuracy did not improve from 1.00000\n",
      "\u001b[1m137/137\u001b[0m \u001b[32m━━━━━━━━━━━━━━━━━━━━\u001b[0m\u001b[37m\u001b[0m \u001b[1m38s\u001b[0m 277ms/step - accuracy: 0.9868 - loss: 0.0357 - val_accuracy: 1.0000 - val_loss: 0.0095 - learning_rate: 1.0000e-04\n",
      "🔹 Phase 2: Fine-tuning base model...\n",
      "Epoch 1/30\n",
      "\u001b[1m137/137\u001b[0m \u001b[32m━━━━━━━━━━━━━━━━━━━━\u001b[0m\u001b[37m\u001b[0m \u001b[1m0s\u001b[0m 367ms/step - accuracy: 0.9809 - loss: 0.0512\n",
      "Epoch 1: val_accuracy did not improve from 1.00000\n",
      "\u001b[1m137/137\u001b[0m \u001b[32m━━━━━━━━━━━━━━━━━━━━\u001b[0m\u001b[37m\u001b[0m \u001b[1m95s\u001b[0m 488ms/step - accuracy: 0.9824 - loss: 0.0471 - val_accuracy: 1.0000 - val_loss: 0.0056 - learning_rate: 1.0000e-05\n",
      "Epoch 2/30\n",
      "\u001b[1m137/137\u001b[0m \u001b[32m━━━━━━━━━━━━━━━━━━━━\u001b[0m\u001b[37m\u001b[0m \u001b[1m0s\u001b[0m 264ms/step - accuracy: 0.9846 - loss: 0.0429\n",
      "Epoch 2: val_accuracy did not improve from 1.00000\n",
      "\u001b[1m137/137\u001b[0m \u001b[32m━━━━━━━━━━━━━━━━━━━━\u001b[0m\u001b[37m\u001b[0m \u001b[1m38s\u001b[0m 277ms/step - accuracy: 0.9865 - loss: 0.0389 - val_accuracy: 0.9981 - val_loss: 0.0054 - learning_rate: 1.0000e-05\n",
      "Epoch 3/30\n",
      "\u001b[1m137/137\u001b[0m \u001b[32m━━━━━━━━━━━━━━━━━━━━\u001b[0m\u001b[37m\u001b[0m \u001b[1m0s\u001b[0m 284ms/step - accuracy: 0.9791 - loss: 0.0554\n",
      "Epoch 3: val_accuracy did not improve from 1.00000\n",
      "\u001b[1m137/137\u001b[0m \u001b[32m━━━━━━━━━━━━━━━━━━━━\u001b[0m\u001b[37m\u001b[0m \u001b[1m41s\u001b[0m 301ms/step - accuracy: 0.9858 - loss: 0.0399 - val_accuracy: 0.9981 - val_loss: 0.0054 - learning_rate: 1.0000e-05\n",
      "Epoch 4/30\n",
      "\u001b[1m137/137\u001b[0m \u001b[32m━━━━━━━━━━━━━━━━━━━━\u001b[0m\u001b[37m\u001b[0m \u001b[1m0s\u001b[0m 282ms/step - accuracy: 0.9835 - loss: 0.0490\n",
      "Epoch 4: val_accuracy did not improve from 1.00000\n",
      "\u001b[1m137/137\u001b[0m \u001b[32m━━━━━━━━━━━━━━━━━━━━\u001b[0m\u001b[37m\u001b[0m \u001b[1m41s\u001b[0m 299ms/step - accuracy: 0.9874 - loss: 0.0373 - val_accuracy: 0.9981 - val_loss: 0.0043 - learning_rate: 2.0000e-06\n",
      "Epoch 5/30\n",
      "\u001b[1m137/137\u001b[0m \u001b[32m━━━━━━━━━━━━━━━━━━━━\u001b[0m\u001b[37m\u001b[0m \u001b[1m0s\u001b[0m 294ms/step - accuracy: 0.9865 - loss: 0.0358\n",
      "Epoch 5: val_accuracy did not improve from 1.00000\n",
      "\u001b[1m137/137\u001b[0m \u001b[32m━━━━━━━━━━━━━━━━━━━━\u001b[0m\u001b[37m\u001b[0m \u001b[1m43s\u001b[0m 311ms/step - accuracy: 0.9863 - loss: 0.0358 - val_accuracy: 0.9981 - val_loss: 0.0041 - learning_rate: 2.0000e-06\n",
      "Epoch 6/30\n",
      "\u001b[1m137/137\u001b[0m \u001b[32m━━━━━━━━━━━━━━━━━━━━\u001b[0m\u001b[37m\u001b[0m \u001b[1m0s\u001b[0m 287ms/step - accuracy: 0.9888 - loss: 0.0404\n",
      "Epoch 6: val_accuracy did not improve from 1.00000\n",
      "\u001b[1m137/137\u001b[0m \u001b[32m━━━━━━━━━━━━━━━━━━━━\u001b[0m\u001b[37m\u001b[0m \u001b[1m42s\u001b[0m 304ms/step - accuracy: 0.9893 - loss: 0.0337 - val_accuracy: 0.9981 - val_loss: 0.0041 - learning_rate: 2.0000e-06\n",
      "Epoch 7/30\n",
      "\u001b[1m137/137\u001b[0m \u001b[32m━━━━━━━━━━━━━━━━━━━━\u001b[0m\u001b[37m\u001b[0m \u001b[1m0s\u001b[0m 274ms/step - accuracy: 0.9879 - loss: 0.0361\n",
      "Epoch 7: val_accuracy did not improve from 1.00000\n",
      "\u001b[1m137/137\u001b[0m \u001b[32m━━━━━━━━━━━━━━━━━━━━\u001b[0m\u001b[37m\u001b[0m \u001b[1m39s\u001b[0m 286ms/step - accuracy: 0.9900 - loss: 0.0323 - val_accuracy: 1.0000 - val_loss: 0.0037 - learning_rate: 2.0000e-06\n",
      "Epoch 8/30\n",
      "\u001b[1m137/137\u001b[0m \u001b[32m━━━━━━━━━━━━━━━━━━━━\u001b[0m\u001b[37m\u001b[0m \u001b[1m0s\u001b[0m 278ms/step - accuracy: 0.9898 - loss: 0.0310\n",
      "Epoch 8: val_accuracy did not improve from 1.00000\n",
      "\u001b[1m137/137\u001b[0m \u001b[32m━━━━━━━━━━━━━━━━━━━━\u001b[0m\u001b[37m\u001b[0m \u001b[1m41s\u001b[0m 295ms/step - accuracy: 0.9890 - loss: 0.0336 - val_accuracy: 1.0000 - val_loss: 0.0036 - learning_rate: 2.0000e-06\n",
      "Epoch 9/30\n",
      "\u001b[1m137/137\u001b[0m \u001b[32m━━━━━━━━━━━━━━━━━━━━\u001b[0m\u001b[37m\u001b[0m \u001b[1m0s\u001b[0m 295ms/step - accuracy: 0.9876 - loss: 0.0314\n",
      "Epoch 9: val_accuracy did not improve from 1.00000\n",
      "\u001b[1m137/137\u001b[0m \u001b[32m━━━━━━━━━━━━━━━━━━━━\u001b[0m\u001b[37m\u001b[0m \u001b[1m43s\u001b[0m 313ms/step - accuracy: 0.9858 - loss: 0.0339 - val_accuracy: 1.0000 - val_loss: 0.0036 - learning_rate: 2.0000e-06\n",
      "Epoch 10/30\n",
      "\u001b[1m137/137\u001b[0m \u001b[32m━━━━━━━━━━━━━━━━━━━━\u001b[0m\u001b[37m\u001b[0m \u001b[1m0s\u001b[0m 288ms/step - accuracy: 0.9884 - loss: 0.0290\n",
      "Epoch 10: val_accuracy did not improve from 1.00000\n",
      "\u001b[1m137/137\u001b[0m \u001b[32m━━━━━━━━━━━━━━━━━━━━\u001b[0m\u001b[37m\u001b[0m \u001b[1m42s\u001b[0m 304ms/step - accuracy: 0.9877 - loss: 0.0326 - val_accuracy: 1.0000 - val_loss: 0.0036 - learning_rate: 2.0000e-06\n",
      "Epoch 11/30\n",
      "\u001b[1m137/137\u001b[0m \u001b[32m━━━━━━━━━━━━━━━━━━━━\u001b[0m\u001b[37m\u001b[0m \u001b[1m0s\u001b[0m 289ms/step - accuracy: 0.9941 - loss: 0.0205\n",
      "Epoch 11: val_accuracy did not improve from 1.00000\n",
      "\u001b[1m137/137\u001b[0m \u001b[32m━━━━━━━━━━━━━━━━━━━━\u001b[0m\u001b[37m\u001b[0m \u001b[1m42s\u001b[0m 304ms/step - accuracy: 0.9918 - loss: 0.0242 - val_accuracy: 1.0000 - val_loss: 0.0036 - learning_rate: 2.0000e-06\n",
      "Epoch 12/30\n",
      "\u001b[1m137/137\u001b[0m \u001b[32m━━━━━━━━━━━━━━━━━━━━\u001b[0m\u001b[37m\u001b[0m \u001b[1m0s\u001b[0m 269ms/step - accuracy: 0.9908 - loss: 0.0281\n",
      "Epoch 12: val_accuracy did not improve from 1.00000\n",
      "\u001b[1m137/137\u001b[0m \u001b[32m━━━━━━━━━━━━━━━━━━━━\u001b[0m\u001b[37m\u001b[0m \u001b[1m39s\u001b[0m 283ms/step - accuracy: 0.9884 - loss: 0.0312 - val_accuracy: 1.0000 - val_loss: 0.0035 - learning_rate: 1.0000e-06\n",
      "Epoch 13/30\n",
      "\u001b[1m137/137\u001b[0m \u001b[32m━━━━━━━━━━━━━━━━━━━━\u001b[0m\u001b[37m\u001b[0m \u001b[1m0s\u001b[0m 257ms/step - accuracy: 0.9919 - loss: 0.0288\n",
      "Epoch 13: val_accuracy did not improve from 1.00000\n",
      "\u001b[1m137/137\u001b[0m \u001b[32m━━━━━━━━━━━━━━━━━━━━\u001b[0m\u001b[37m\u001b[0m \u001b[1m37s\u001b[0m 271ms/step - accuracy: 0.9911 - loss: 0.0290 - val_accuracy: 1.0000 - val_loss: 0.0034 - learning_rate: 1.0000e-06\n",
      "Epoch 14/30\n",
      "\u001b[1m137/137\u001b[0m \u001b[32m━━━━━━━━━━━━━━━━━━━━\u001b[0m\u001b[37m\u001b[0m \u001b[1m0s\u001b[0m 267ms/step - accuracy: 0.9859 - loss: 0.0364\n",
      "Epoch 14: val_accuracy did not improve from 1.00000\n",
      "\u001b[1m137/137\u001b[0m \u001b[32m━━━━━━━━━━━━━━━━━━━━\u001b[0m\u001b[37m\u001b[0m \u001b[1m39s\u001b[0m 282ms/step - accuracy: 0.9879 - loss: 0.0325 - val_accuracy: 1.0000 - val_loss: 0.0033 - learning_rate: 1.0000e-06\n",
      "Epoch 15/30\n",
      "\u001b[1m137/137\u001b[0m \u001b[32m━━━━━━━━━━━━━━━━━━━━\u001b[0m\u001b[37m\u001b[0m \u001b[1m0s\u001b[0m 260ms/step - accuracy: 0.9891 - loss: 0.0300\n",
      "Epoch 15: val_accuracy did not improve from 1.00000\n",
      "\u001b[1m137/137\u001b[0m \u001b[32m━━━━━━━━━━━━━━━━━━━━\u001b[0m\u001b[37m\u001b[0m \u001b[1m37s\u001b[0m 273ms/step - accuracy: 0.9906 - loss: 0.0279 - val_accuracy: 1.0000 - val_loss: 0.0034 - learning_rate: 1.0000e-06\n",
      "Epoch 16/30\n",
      "\u001b[1m137/137\u001b[0m \u001b[32m━━━━━━━━━━━━━━━━━━━━\u001b[0m\u001b[37m\u001b[0m \u001b[1m0s\u001b[0m 254ms/step - accuracy: 0.9877 - loss: 0.0308\n",
      "Epoch 16: val_accuracy did not improve from 1.00000\n",
      "\u001b[1m137/137\u001b[0m \u001b[32m━━━━━━━━━━━━━━━━━━━━\u001b[0m\u001b[37m\u001b[0m \u001b[1m37s\u001b[0m 268ms/step - accuracy: 0.9884 - loss: 0.0331 - val_accuracy: 1.0000 - val_loss: 0.0032 - learning_rate: 1.0000e-06\n",
      "Epoch 17/30\n",
      "\u001b[1m137/137\u001b[0m \u001b[32m━━━━━━━━━━━━━━━━━━━━\u001b[0m\u001b[37m\u001b[0m \u001b[1m0s\u001b[0m 263ms/step - accuracy: 0.9895 - loss: 0.0283\n",
      "Epoch 17: val_accuracy did not improve from 1.00000\n",
      "\u001b[1m137/137\u001b[0m \u001b[32m━━━━━━━━━━━━━━━━━━━━\u001b[0m\u001b[37m\u001b[0m \u001b[1m38s\u001b[0m 277ms/step - accuracy: 0.9888 - loss: 0.0292 - val_accuracy: 1.0000 - val_loss: 0.0032 - learning_rate: 1.0000e-06\n",
      "Epoch 18/30\n",
      "\u001b[1m137/137\u001b[0m \u001b[32m━━━━━━━━━━━━━━━━━━━━\u001b[0m\u001b[37m\u001b[0m \u001b[1m0s\u001b[0m 272ms/step - accuracy: 0.9912 - loss: 0.0248\n",
      "Epoch 18: val_accuracy did not improve from 1.00000\n",
      "\u001b[1m137/137\u001b[0m \u001b[32m━━━━━━━━━━━━━━━━━━━━\u001b[0m\u001b[37m\u001b[0m \u001b[1m39s\u001b[0m 285ms/step - accuracy: 0.9893 - loss: 0.0273 - val_accuracy: 1.0000 - val_loss: 0.0032 - learning_rate: 1.0000e-06\n",
      "Epoch 19/30\n",
      "\u001b[1m137/137\u001b[0m \u001b[32m━━━━━━━━━━━━━━━━━━━━\u001b[0m\u001b[37m\u001b[0m \u001b[1m0s\u001b[0m 257ms/step - accuracy: 0.9912 - loss: 0.0319\n",
      "Epoch 19: val_accuracy did not improve from 1.00000\n",
      "\u001b[1m137/137\u001b[0m \u001b[32m━━━━━━━━━━━━━━━━━━━━\u001b[0m\u001b[37m\u001b[0m \u001b[1m37s\u001b[0m 269ms/step - accuracy: 0.9902 - loss: 0.0303 - val_accuracy: 1.0000 - val_loss: 0.0034 - learning_rate: 1.0000e-06\n",
      "Epoch 20/30\n",
      "\u001b[1m137/137\u001b[0m \u001b[32m━━━━━━━━━━━━━━━━━━━━\u001b[0m\u001b[37m\u001b[0m \u001b[1m0s\u001b[0m 266ms/step - accuracy: 0.9909 - loss: 0.0301\n",
      "Epoch 20: val_accuracy did not improve from 1.00000\n",
      "\u001b[1m137/137\u001b[0m \u001b[32m━━━━━━━━━━━━━━━━━━━━\u001b[0m\u001b[37m\u001b[0m \u001b[1m38s\u001b[0m 279ms/step - accuracy: 0.9911 - loss: 0.0291 - val_accuracy: 1.0000 - val_loss: 0.0031 - learning_rate: 1.0000e-06\n",
      "Epoch 21/30\n",
      "\u001b[1m137/137\u001b[0m \u001b[32m━━━━━━━━━━━━━━━━━━━━\u001b[0m\u001b[37m\u001b[0m \u001b[1m0s\u001b[0m 265ms/step - accuracy: 0.9947 - loss: 0.0199\n",
      "Epoch 21: val_accuracy did not improve from 1.00000\n",
      "\u001b[1m137/137\u001b[0m \u001b[32m━━━━━━━━━━━━━━━━━━━━\u001b[0m\u001b[37m\u001b[0m \u001b[1m38s\u001b[0m 279ms/step - accuracy: 0.9904 - loss: 0.0272 - val_accuracy: 1.0000 - val_loss: 0.0029 - learning_rate: 1.0000e-06\n",
      "Epoch 22/30\n",
      "\u001b[1m137/137\u001b[0m \u001b[32m━━━━━━━━━━━━━━━━━━━━\u001b[0m\u001b[37m\u001b[0m \u001b[1m0s\u001b[0m 268ms/step - accuracy: 0.9946 - loss: 0.0210\n",
      "Epoch 22: val_accuracy did not improve from 1.00000\n",
      "\u001b[1m137/137\u001b[0m \u001b[32m━━━━━━━━━━━━━━━━━━━━\u001b[0m\u001b[37m\u001b[0m \u001b[1m39s\u001b[0m 283ms/step - accuracy: 0.9936 - loss: 0.0220 - val_accuracy: 1.0000 - val_loss: 0.0030 - learning_rate: 1.0000e-06\n",
      "Epoch 23/30\n",
      "\u001b[1m137/137\u001b[0m \u001b[32m━━━━━━━━━━━━━━━━━━━━\u001b[0m\u001b[37m\u001b[0m \u001b[1m0s\u001b[0m 265ms/step - accuracy: 0.9893 - loss: 0.0227\n",
      "Epoch 23: val_accuracy did not improve from 1.00000\n",
      "\u001b[1m137/137\u001b[0m \u001b[32m━━━━━━━━━━━━━━━━━━━━\u001b[0m\u001b[37m\u001b[0m \u001b[1m38s\u001b[0m 279ms/step - accuracy: 0.9909 - loss: 0.0224 - val_accuracy: 1.0000 - val_loss: 0.0030 - learning_rate: 1.0000e-06\n",
      "Epoch 24/30\n",
      "\u001b[1m137/137\u001b[0m \u001b[32m━━━━━━━━━━━━━━━━━━━━\u001b[0m\u001b[37m\u001b[0m \u001b[1m0s\u001b[0m 262ms/step - accuracy: 0.9899 - loss: 0.0284\n",
      "Epoch 24: val_accuracy did not improve from 1.00000\n",
      "\u001b[1m137/137\u001b[0m \u001b[32m━━━━━━━━━━━━━━━━━━━━\u001b[0m\u001b[37m\u001b[0m \u001b[1m38s\u001b[0m 276ms/step - accuracy: 0.9893 - loss: 0.0313 - val_accuracy: 1.0000 - val_loss: 0.0027 - learning_rate: 1.0000e-06\n",
      "Epoch 25/30\n",
      "\u001b[1m137/137\u001b[0m \u001b[32m━━━━━━━━━━━━━━━━━━━━\u001b[0m\u001b[37m\u001b[0m \u001b[1m0s\u001b[0m 248ms/step - accuracy: 0.9929 - loss: 0.0233\n",
      "Epoch 25: val_accuracy did not improve from 1.00000\n",
      "\u001b[1m137/137\u001b[0m \u001b[32m━━━━━━━━━━━━━━━━━━━━\u001b[0m\u001b[37m\u001b[0m \u001b[1m36s\u001b[0m 262ms/step - accuracy: 0.9913 - loss: 0.0244 - val_accuracy: 1.0000 - val_loss: 0.0026 - learning_rate: 1.0000e-06\n",
      "Epoch 26/30\n",
      "\u001b[1m137/137\u001b[0m \u001b[32m━━━━━━━━━━━━━━━━━━━━\u001b[0m\u001b[37m\u001b[0m \u001b[1m0s\u001b[0m 249ms/step - accuracy: 0.9907 - loss: 0.0262\n",
      "Epoch 26: val_accuracy did not improve from 1.00000\n",
      "\u001b[1m137/137\u001b[0m \u001b[32m━━━━━━━━━━━━━━━━━━━━\u001b[0m\u001b[37m\u001b[0m \u001b[1m36s\u001b[0m 262ms/step - accuracy: 0.9920 - loss: 0.0233 - val_accuracy: 1.0000 - val_loss: 0.0027 - learning_rate: 1.0000e-06\n",
      "Epoch 27/30\n",
      "\u001b[1m137/137\u001b[0m \u001b[32m━━━━━━━━━━━━━━━━━━━━\u001b[0m\u001b[37m\u001b[0m \u001b[1m0s\u001b[0m 244ms/step - accuracy: 0.9952 - loss: 0.0181\n",
      "Epoch 27: val_accuracy did not improve from 1.00000\n",
      "\u001b[1m137/137\u001b[0m \u001b[32m━━━━━━━━━━━━━━━━━━━━\u001b[0m\u001b[37m\u001b[0m \u001b[1m35s\u001b[0m 254ms/step - accuracy: 0.9936 - loss: 0.0211 - val_accuracy: 1.0000 - val_loss: 0.0025 - learning_rate: 1.0000e-06\n",
      "Epoch 28/30\n",
      "\u001b[1m137/137\u001b[0m \u001b[32m━━━━━━━━━━━━━━━━━━━━\u001b[0m\u001b[37m\u001b[0m \u001b[1m0s\u001b[0m 252ms/step - accuracy: 0.9911 - loss: 0.0288\n",
      "Epoch 28: val_accuracy did not improve from 1.00000\n",
      "\u001b[1m137/137\u001b[0m \u001b[32m━━━━━━━━━━━━━━━━━━━━\u001b[0m\u001b[37m\u001b[0m \u001b[1m36s\u001b[0m 264ms/step - accuracy: 0.9902 - loss: 0.0285 - val_accuracy: 1.0000 - val_loss: 0.0026 - learning_rate: 1.0000e-06\n",
      "Epoch 29/30\n",
      "\u001b[1m137/137\u001b[0m \u001b[32m━━━━━━━━━━━━━━━━━━━━\u001b[0m\u001b[37m\u001b[0m \u001b[1m0s\u001b[0m 247ms/step - accuracy: 0.9903 - loss: 0.0281\n",
      "Epoch 29: val_accuracy did not improve from 1.00000\n",
      "\u001b[1m137/137\u001b[0m \u001b[32m━━━━━━━━━━━━━━━━━━━━\u001b[0m\u001b[37m\u001b[0m \u001b[1m36s\u001b[0m 259ms/step - accuracy: 0.9918 - loss: 0.0257 - val_accuracy: 1.0000 - val_loss: 0.0025 - learning_rate: 1.0000e-06\n",
      "Epoch 30/30\n",
      "\u001b[1m137/137\u001b[0m \u001b[32m━━━━━━━━━━━━━━━━━━━━\u001b[0m\u001b[37m\u001b[0m \u001b[1m0s\u001b[0m 248ms/step - accuracy: 0.9914 - loss: 0.0254\n",
      "Epoch 30: val_accuracy did not improve from 1.00000\n",
      "\u001b[1m137/137\u001b[0m \u001b[32m━━━━━━━━━━━━━━━━━━━━\u001b[0m\u001b[37m\u001b[0m \u001b[1m36s\u001b[0m 260ms/step - accuracy: 0.9911 - loss: 0.0262 - val_accuracy: 1.0000 - val_loss: 0.0025 - learning_rate: 1.0000e-06\n",
      "📦 Loading best model weights...\n",
      "📊 Evaluating model on test set...\n",
      "\u001b[1m17/17\u001b[0m \u001b[32m━━━━━━━━━━━━━━━━━━━━\u001b[0m\u001b[37m\u001b[0m \u001b[1m20s\u001b[0m 788ms/step\n",
      "\n",
      "✅ Test Accuracy: 0.9963\n",
      "\n",
      "📄 Classification Report:\n",
      "              precision    recall  f1-score   support\n",
      "\n",
      "  hypodontia       1.00      0.99      1.00       264\n",
      "mouth_ulcers       0.99      1.00      1.00       276\n",
      "\n",
      "    accuracy                           1.00       540\n",
      "   macro avg       1.00      1.00      1.00       540\n",
      "weighted avg       1.00      1.00      1.00       540\n",
      "\n",
      "🔁 Confusion Matrix:\n"
     ]
    },
    {
     "data": {
      "image/png": "[encoded data removed]",
      "text/plain": [
       "<Figure size 600x500 with 2 Axes>"
      ]
     },
     "metadata": {},
     "output_type": "display_data"
    }
   ],
   "source": [
    "if __name__ == \"__main__\":\n",
    "    train_model()"
   ]
  },
  {
   "cell_type": "code",
   "execution_count": 23,
   "id": "c3e230fc-f849-4957-a33c-1c960e95937f",
   "metadata": {},
   "outputs": [
    {
     "name": "stderr",
     "output_type": "stream",
     "text": [
      "WARNING:absl:Compiled the loaded model, but the compiled metrics have yet to be built. `model.compile_metrics` will be empty until you train or evaluate the model.\n"
     ]
    },
    {
     "name": "stdout",
     "output_type": "stream",
     "text": [
      "🔍 Loaded model from: oral_disorder_model.h5\n",
      "\n",
      "🧪 Classifying 6 images from: /mnt/k/ml/clg_ml/imgs_from_google/domainSpecificClassifier/oral_disorders/\n",
      "\n",
      "hypo.jpeg → Predicted: hypodontia (100.00%)\n",
      "hypo2.jpg → Predicted: hypodontia (76.48%)\n",
      "hypo3.jpg → Predicted: hypodontia (99.04%)\n",
      "mo_ul.jpeg → Predicted: mouth_ulcers (82.92%)\n",
      "mo_ul2.jpg → Predicted: mouth_ulcers (94.06%)\n",
      "mo_ul3.jpg → Predicted: mouth_ulcers (99.78%)\n"
     ]
    }
   ],
   "source": [
    "classify_images()"
   ]
  },
  {
   "cell_type": "code",
   "execution_count": null,
   "id": "d0f819e6-754d-40fa-abeb-521d1c8b4776",
   "metadata": {},
   "outputs": [],
   "source": []
  },
  {
   "cell_type": "code",
   "execution_count": null,
   "id": "5fdd0465-2ac7-4534-98ff-838c9ec25ef3",
   "metadata": {},
   "outputs": [],
   "source": []
  },
  {
   "cell_type": "code",
   "execution_count": null,
   "id": "53e3741f-c6c9-433a-a4d6-cf826cb4a871",
   "metadata": {},
   "outputs": [],
   "source": []
  },
  {
   "cell_type": "code",
   "execution_count": null,
   "id": "796c3cab-a6d3-4626-b670-a97e0e7dd47f",
   "metadata": {},
   "outputs": [],
   "source": []
  },
  {
   "cell_type": "code",
   "execution_count": null,
   "id": "ad623b6a-ae97-4fdc-95c7-236b5da85879",
   "metadata": {},
   "outputs": [],
   "source": []
  },
  {
   "cell_type": "code",
   "execution_count": null,
   "id": "734c2701-7f72-4622-bbef-c19fb83dc72d",
   "metadata": {},
   "outputs": [],
   "source": []
  },
  {
   "cell_type": "code",
   "execution_count": null,
   "id": "9e1ad701-d17c-4450-aae2-94452e474fb7",
   "metadata": {},
   "outputs": [],
   "source": []
  },
  {
   "cell_type": "code",
   "execution_count": null,
   "id": "13174248-b5f0-4622-a957-a2b9898e438e",
   "metadata": {},
   "outputs": [],
   "source": []
  },
  {
   "cell_type": "code",
   "execution_count": null,
   "id": "a919f0ee-83fa-442b-b261-49ec035c0722",
   "metadata": {},
   "outputs": [],
   "source": []
  },
  {
   "cell_type": "code",
   "execution_count": null,
   "id": "b77122ae-8e46-418c-bbeb-b7e8775c94fd",
   "metadata": {},
   "outputs": [],
   "source": []
  },
  {
   "cell_type": "code",
   "execution_count": null,
   "id": "105324dc-e570-44a2-9fc5-4c257195c04d",
   "metadata": {},
   "outputs": [],
   "source": []
  },
  {
   "cell_type": "code",
   "execution_count": null,
   "id": "13df0baf-0866-485f-8684-f415b04d617c",
   "metadata": {},
   "outputs": [],
   "source": []
  },
  {
   "cell_type": "code",
   "execution_count": null,
   "id": "fba64423-bf2e-4523-af73-d0f23185c4ce",
   "metadata": {},
   "outputs": [],
   "source": []
  },
  {
   "cell_type": "code",
   "execution_count": null,
   "id": "16f47074-4730-4f83-9e3c-7b3c974ced9c",
   "metadata": {},
   "outputs": [],
   "source": []
  },
  {
   "cell_type": "code",
   "execution_count": null,
   "id": "f5879e95-cb29-405f-8d82-67ff929f694d",
   "metadata": {},
   "outputs": [],
   "source": []
  },
  {
   "cell_type": "code",
   "execution_count": null,
   "id": "99b81fc3-28ee-410e-851e-f5ee904d3e5b",
   "metadata": {},
   "outputs": [],
   "source": []
  },
  {
   "cell_type": "code",
   "execution_count": null,
   "id": "35ce2812-e45b-4be0-a92c-07043ae584d9",
   "metadata": {},
   "outputs": [],
   "source": []
  },
  {
   "cell_type": "code",
   "execution_count": null,
   "id": "c1f5b935-5cd1-4db0-9ea2-47991de02b94",
   "metadata": {},
   "outputs": [],
   "source": []
  },
  {
   "cell_type": "code",
   "execution_count": null,
   "id": "aba45d1a-e2f1-4f33-82c1-dc54f9715be4",
   "metadata": {},
   "outputs": [],
   "source": []
  }
 ],
 "metadata": {
  "kernelspec": {
   "display_name": "Python 3 (ipykernel)",
   "language": "python",
   "name": "python3"
  },
  "language_info": {
   "codemirror_mode": {
    "name": "ipython",
    "version": 3
   },
   "file_extension": ".py",
   "mimetype": "text/x-python",
   "name": "python",
   "nbconvert_exporter": "python",
   "pygments_lexer": "ipython3",
   "version": "3.10.12"
  }
 },
 "nbformat": 4,
 "nbformat_minor": 5
}
