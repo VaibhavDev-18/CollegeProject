{
 "cells": [
  {
   "cell_type": "code",
   "execution_count": 14,
   "id": "813bc3e1-6619-4df0-928d-1a26a0f52ddd",
   "metadata": {},
   "outputs": [],
   "source": [
    "import os\n",
    "import tensorflow as tf\n",
    "from tensorflow.keras.applications import DenseNet121\n",
    "from tensorflow.keras.models import Model\n",
    "from tensorflow.keras.layers import GlobalAveragePooling2D, Dense, Dropout, BatchNormalization, Input, Multiply, Reshape, Activation\n",
    "from tensorflow.keras.preprocessing.image import ImageDataGenerator\n",
    "from tensorflow.keras.optimizers import Adam\n",
    "from tensorflow.keras.preprocessing import image\n",
    "from tensorflow.keras.callbacks import EarlyStopping, ReduceLROnPlateau, ModelCheckpoint\n",
    "from sklearn.metrics import classification_report, confusion_matrix\n",
    "import numpy as np\n",
    "import matplotlib.pyplot as plt\n",
    "import seaborn as sns"
   ]
  },
  {
   "cell_type": "code",
   "execution_count": 15,
   "id": "c5fa43fb-8988-4974-a3c2-f6e216464ba0",
   "metadata": {},
   "outputs": [],
   "source": [
    "# ========== CONFIG ==========\n",
    "IMG_SIZE = (224, 224)\n",
    "BATCH_SIZE = 32\n",
    "EPOCHS_PHASE_1 = 10\n",
    "EPOCHS_PHASE_2 = 30\n",
    "LEARNING_RATE_PHASE_1 = 1e-4\n",
    "LEARNING_RATE_PHASE_2 = 1e-5\n",
    "UNFREEZE_LAYERS = 50"
   ]
  },
  {
   "cell_type": "code",
   "execution_count": 16,
   "id": "d41f1a64-d824-49dc-a9d1-3f47c5d87edc",
   "metadata": {},
   "outputs": [],
   "source": [
    "BASE_DIR = \"/mnt/k/ml/clg_ml/domain_specific_classification\"\n",
    "train_dir = os.path.join(BASE_DIR, \"train/skin_diseases\")\n",
    "val_dir = os.path.join(BASE_DIR, \"val/skin_diseases\")\n",
    "test_dir = os.path.join(BASE_DIR, \"test/skin_diseases\")\n",
    "MODEL_PATH = \"skin_diseases_model.h5\"\n",
    "google_images_dir = '/mnt/k/ml/clg_ml/imgs_from_google/domainSpecificClassifier/skin_diseases/'\n",
    "class_labels = ['benign keratosis like lesion', 'eczema']"
   ]
  },
  {
   "cell_type": "code",
   "execution_count": 17,
   "id": "9fc64120-19b5-4fbd-aebc-7b0caf56853b",
   "metadata": {},
   "outputs": [],
   "source": [
    "# ========== SE BLOCK ==========\n",
    "def squeeze_excite_block(input_tensor, ratio=16):\n",
    "    '''Create a squeeze and excitation block'''\n",
    "    filters = input_tensor.shape[-1]\n",
    "    se = tf.keras.layers.GlobalAveragePooling2D()(input_tensor)\n",
    "    se = Reshape((1, 1, filters))(se)\n",
    "    se = Dense(filters // ratio, activation='relu', kernel_initializer='he_normal', use_bias=False)(se)\n",
    "    se = Dense(filters, activation='sigmoid', kernel_initializer='he_normal', use_bias=False)(se)\n",
    "    x = Multiply()([input_tensor, se])\n",
    "    return x"
   ]
  },
  {
   "cell_type": "code",
   "execution_count": 18,
   "id": "285095e8-ae72-4024-87bf-d4bcba2a1b04",
   "metadata": {},
   "outputs": [],
   "source": [
    "# ========== DATA ==========\n",
    "def create_generators():\n",
    "    train_gen = ImageDataGenerator(\n",
    "        rescale=1./255,\n",
    "        rotation_range=15,\n",
    "        width_shift_range=0.1,\n",
    "        height_shift_range=0.1,\n",
    "        shear_range=0.1,\n",
    "        zoom_range=0.1,\n",
    "        horizontal_flip=True,\n",
    "        fill_mode='nearest'\n",
    "    ).flow_from_directory(train_dir, target_size=IMG_SIZE, batch_size=BATCH_SIZE, class_mode='categorical', shuffle=True)\n",
    "\n",
    "    val_gen = ImageDataGenerator(rescale=1./255).flow_from_directory(val_dir, target_size=IMG_SIZE, batch_size=BATCH_SIZE, class_mode='categorical', shuffle=False)\n",
    "    test_gen = ImageDataGenerator(rescale=1./255).flow_from_directory(test_dir, target_size=IMG_SIZE, batch_size=BATCH_SIZE, class_mode='categorical', shuffle=False)\n",
    "    return train_gen, val_gen, test_gen"
   ]
  },
  {
   "cell_type": "code",
   "execution_count": 19,
   "id": "2eec0654-c236-4bb4-8cde-e9afb2458019",
   "metadata": {},
   "outputs": [],
   "source": [
    "# ========== MODEL ==========\n",
    "def build_model(num_classes):\n",
    "    base = DenseNet121(weights='imagenet', include_top=False, input_shape=(224, 224, 3))\n",
    "    base.trainable = False  # Phase 1: freeze backbone\n",
    "\n",
    "    x = base.output\n",
    "    x = squeeze_excite_block(x)  # <-- Attention block here\n",
    "\n",
    "    x = GlobalAveragePooling2D()(x)\n",
    "    x = BatchNormalization()(x)\n",
    "    x = Dense(256, activation='relu')(x)\n",
    "    x = Dropout(0.3)(x)\n",
    "    x = Dense(128, activation='relu')(x)\n",
    "    x = Dropout(0.2)(x)\n",
    "    output = Dense(num_classes, activation='softmax')(x)\n",
    "\n",
    "    return Model(inputs=base.input, outputs=output), base"
   ]
  },
  {
   "cell_type": "code",
   "execution_count": 20,
   "id": "4fe50af1-0cab-4199-ac7c-4da3a7182864",
   "metadata": {},
   "outputs": [],
   "source": [
    "# ========== TRAINING ==========\n",
    "def train_model():\n",
    "    train_gen, val_gen, test_gen = create_generators()\n",
    "    model, base_model = build_model(num_classes=2)\n",
    "\n",
    "    # Phase 1: Train top classifier\n",
    "    print(\"🔹 Phase 1: Training classifier head...\")\n",
    "    model.compile(optimizer=Adam(LEARNING_RATE_PHASE_1), loss='categorical_crossentropy', metrics=['accuracy'])\n",
    "\n",
    "    callbacks = [\n",
    "        EarlyStopping(patience=5, restore_best_weights=True, monitor='val_loss'),\n",
    "        ReduceLROnPlateau(patience=3, factor=0.2, min_lr=1e-6),\n",
    "        ModelCheckpoint(MODEL_PATH, save_best_only=True, monitor='val_accuracy', verbose=1)\n",
    "    ]\n",
    "\n",
    "    model.fit(train_gen, validation_data=val_gen, epochs=EPOCHS_PHASE_1, callbacks=callbacks)\n",
    "\n",
    "    # Phase 2: Fine-tuning last N layers\n",
    "    print(\"🔹 Phase 2: Fine-tuning base model...\")\n",
    "    base_model.trainable = True\n",
    "    for layer in base_model.layers[:-UNFREEZE_LAYERS]:\n",
    "        layer.trainable = False\n",
    "\n",
    "    model.compile(optimizer=Adam(LEARNING_RATE_PHASE_2), loss='categorical_crossentropy', metrics=['accuracy'])\n",
    "    model.fit(train_gen, validation_data=val_gen, epochs=EPOCHS_PHASE_2, callbacks=callbacks)\n",
    "\n",
    "    # Load best weights before evaluation\n",
    "    print(\"📦 Loading best model weights...\")\n",
    "    model.load_weights(MODEL_PATH)\n",
    "\n",
    "    # Final evaluation\n",
    "    evaluate_model(model, test_gen)"
   ]
  },
  {
   "cell_type": "code",
   "execution_count": 21,
   "id": "015c7b4c-2a8a-4df5-805f-9ddbd9813841",
   "metadata": {},
   "outputs": [],
   "source": [
    "def evaluate_model(model, test_gen):\n",
    "    print(\"📊 Evaluating model on test set...\")\n",
    "    test_gen.reset()\n",
    "    \n",
    "    y_true = test_gen.classes\n",
    "    class_labels = list(test_gen.class_indices.keys())\n",
    "    \n",
    "    # Predict probabilities\n",
    "    y_pred_probs = model.predict(test_gen, verbose=1)\n",
    "    y_pred = np.argmax(y_pred_probs, axis=1)\n",
    "\n",
    "    # Accuracy\n",
    "    accuracy = np.sum(y_true == y_pred) / len(y_true)\n",
    "    print(f\"\\n✅ Test Accuracy: {accuracy:.4f}\\n\")\n",
    "\n",
    "    # Classification Report\n",
    "    print(\"📄 Classification Report:\")\n",
    "    print(classification_report(y_true, y_pred, target_names=class_labels))\n",
    "\n",
    "    # Confusion Matrix\n",
    "    print(\"🔁 Confusion Matrix:\")\n",
    "    cm = confusion_matrix(y_true, y_pred)\n",
    "    plt.figure(figsize=(6, 5))\n",
    "    sns.heatmap(cm, annot=True, fmt=\"d\", cmap=\"Blues\", xticklabels=class_labels, yticklabels=class_labels)\n",
    "    plt.xlabel(\"Predicted\")\n",
    "    plt.ylabel(\"Actual\")\n",
    "    plt.title(\"Confusion Matrix\")\n",
    "    plt.tight_layout()\n",
    "    plt.show()"
   ]
  },
  {
   "cell_type": "code",
   "execution_count": 22,
   "id": "48db1f2b-832b-4ae4-b3d1-3c9637c59907",
   "metadata": {},
   "outputs": [],
   "source": [
    "def preprocess_image(img_path):\n",
    "    img = image.load_img(img_path, target_size=IMG_SIZE)\n",
    "    img_array = image.img_to_array(img)\n",
    "    img_array = np.expand_dims(img_array, axis=0)  # Add batch dimension\n",
    "    img_array = img_array / 255.0  # Normalize\n",
    "    return img_array"
   ]
  },
  {
   "cell_type": "code",
   "execution_count": 23,
   "id": "684bfe23-3eaa-4a24-a527-f8e4d4893936",
   "metadata": {},
   "outputs": [],
   "source": [
    "def classify_images():\n",
    "    model = tf.keras.models.load_model(MODEL_PATH)\n",
    "    print(f\"🔍 Loaded model from: {MODEL_PATH}\")\n",
    "\n",
    "    image_files = [f for f in os.listdir(google_images_dir)\n",
    "                   if f.lower().endswith(('.jpg', '.jpeg', '.png', '.bmp', '.webp'))]\n",
    "\n",
    "    if not image_files:\n",
    "        print(\"❌ No images found in directory.\")\n",
    "        return\n",
    "\n",
    "    print(f\"\\n🧪 Classifying {len(image_files)} images from: {google_images_dir}\\n\")\n",
    "\n",
    "    for img_file in sorted(image_files):\n",
    "        img_path = os.path.join(google_images_dir, img_file)\n",
    "        img_array = preprocess_image(img_path)\n",
    "\n",
    "        preds = model.predict(img_array, verbose=0)\n",
    "        pred_index = np.argmax(preds[0])\n",
    "        confidence = preds[0][pred_index] * 100\n",
    "\n",
    "        predicted_class = class_labels[pred_index]\n",
    "        print(f\"{img_file} → Predicted: {predicted_class} ({confidence:.2f}%)\")"
   ]
  },
  {
   "cell_type": "code",
   "execution_count": 24,
   "id": "5f462d5a-d4ce-421d-93d8-099b8344c44f",
   "metadata": {},
   "outputs": [
    {
     "name": "stdout",
     "output_type": "stream",
     "text": [
      "Found 3028 images belonging to 2 classes.\n",
      "Found 364 images belonging to 2 classes.\n",
      "Found 360 images belonging to 2 classes.\n"
     ]
    },
    {
     "name": "stderr",
     "output_type": "stream",
     "text": [
      "WARNING: All log messages before absl::InitializeLog() is called are written to STDERR\n",
      "I0000 00:00:1760069480.907348     799 gpu_device.cc:2020] Created device /job:localhost/replica:0/task:0/device:GPU:0 with 3618 MB memory:  -> device: 0, name: NVIDIA GeForce RTX 3050 6GB Laptop GPU, pci bus id: 0000:01:00.0, compute capability: 8.6\n"
     ]
    },
    {
     "name": "stdout",
     "output_type": "stream",
     "text": [
      "🔹 Phase 1: Training classifier head...\n"
     ]
    },
    {
     "name": "stderr",
     "output_type": "stream",
     "text": [
      "/mnt/k/ml/clg_ml/venv/lib/python3.10/site-packages/keras/src/trainers/data_adapters/py_dataset_adapter.py:121: UserWarning: Your `PyDataset` class should call `super().__init__(**kwargs)` in its constructor. `**kwargs` can include `workers`, `use_multiprocessing`, `max_queue_size`. Do not pass these arguments to `fit()`, as they will be ignored.\n",
      "  self._warn_if_super_not_called()\n"
     ]
    },
    {
     "name": "stdout",
     "output_type": "stream",
     "text": [
      "Epoch 1/10\n"
     ]
    },
    {
     "name": "stderr",
     "output_type": "stream",
     "text": [
      "2025-10-10 09:41:34.659192: I external/local_xla/xla/service/service.cc:163] XLA service 0x7ff544001820 initialized for platform CUDA (this does not guarantee that XLA will be used). Devices:\n",
      "2025-10-10 09:41:34.659236: I external/local_xla/xla/service/service.cc:171]   StreamExecutor device (0): NVIDIA GeForce RTX 3050 6GB Laptop GPU, Compute Capability 8.6\n",
      "2025-10-10 09:41:35.178798: I tensorflow/compiler/mlir/tensorflow/utils/dump_mlir_util.cc:269] disabling MLIR crash reproducer, set env var `MLIR_CRASH_REPRODUCER_DIRECTORY` to enable.\n",
      "2025-10-10 09:41:37.877966: I external/local_xla/xla/stream_executor/cuda/cuda_dnn.cc:473] Loaded cuDNN version 91300\n",
      "2025-10-10 09:41:37.189596: I external/local_xla/xla/service/gpu/autotuning/dot_search_space.cc:208] All configs were filtered out because none of them sufficiently match the hints. Maybe the hints set does not contain a good representative set of valid configs? Working around this by using the full hints set instead.\n",
      "2025-10-10 09:41:37.189682: I external/local_xla/xla/service/gpu/autotuning/dot_search_space.cc:208] All configs were filtered out because none of them sufficiently match the hints. Maybe the hints set does not contain a good representative set of valid configs? Working around this by using the full hints set instead.\n",
      "2025-10-10 09:41:37.189741: I external/local_xla/xla/service/gpu/autotuning/dot_search_space.cc:208] All configs were filtered out because none of them sufficiently match the hints. Maybe the hints set does not contain a good representative set of valid configs? Working around this by using the full hints set instead.\n",
      "2025-10-10 09:41:37.189750: I external/local_xla/xla/service/gpu/autotuning/dot_search_space.cc:208] All configs were filtered out because none of them sufficiently match the hints. Maybe the hints set does not contain a good representative set of valid configs? Working around this by using the full hints set instead.\n",
      "2025-10-10 09:41:38.582122: I external/local_xla/xla/stream_executor/cuda/subprocess_compilation.cc:346] ptxas warning : Registers are spilled to local memory in function 'gemm_fusion_dot_11943', 16 bytes spill stores, 16 bytes spill loads\n",
      "\n",
      "2025-10-10 09:41:38.891460: I external/local_xla/xla/stream_executor/cuda/subprocess_compilation.cc:346] ptxas warning : Registers are spilled to local memory in function 'gemm_fusion_dot_13395', 520 bytes spill stores, 520 bytes spill loads\n",
      "\n",
      "2025-10-10 09:41:39.931451: I external/local_xla/xla/stream_executor/cuda/subprocess_compilation.cc:346] ptxas warning : Registers are spilled to local memory in function 'gemm_fusion_dot_13411', 520 bytes spill stores, 520 bytes spill loads\n",
      "\n",
      "I0000 00:00:1760069523.298972    1351 device_compiler.h:196] Compiled cluster using XLA!  This line is logged at most once for the lifetime of the process.\n"
     ]
    },
    {
     "name": "stdout",
     "output_type": "stream",
     "text": [
      "\u001b[1m12/95\u001b[0m \u001b[32m━━\u001b[0m\u001b[37m━━━━━━━━━━━━━━━━━━\u001b[0m \u001b[1m42s\u001b[0m 513ms/step - accuracy: 0.4425 - loss: 1.3800"
     ]
    },
    {
     "name": "stderr",
     "output_type": "stream",
     "text": [
      "2025-10-10 09:42:12.074235: I external/local_xla/xla/service/gpu/autotuning/dot_search_space.cc:208] All configs were filtered out because none of them sufficiently match the hints. Maybe the hints set does not contain a good representative set of valid configs? Working around this by using the full hints set instead.\n",
      "2025-10-10 09:42:12.074311: I external/local_xla/xla/service/gpu/autotuning/dot_search_space.cc:208] All configs were filtered out because none of them sufficiently match the hints. Maybe the hints set does not contain a good representative set of valid configs? Working around this by using the full hints set instead.\n",
      "2025-10-10 09:42:14.043542: I external/local_xla/xla/stream_executor/cuda/subprocess_compilation.cc:346] ptxas warning : Registers are spilled to local memory in function 'gemm_fusion_dot_11943', 16 bytes spill stores, 16 bytes spill loads\n",
      "\n"
     ]
    },
    {
     "name": "stdout",
     "output_type": "stream",
     "text": [
      "\u001b[1m95/95\u001b[0m \u001b[32m━━━━━━━━━━━━━━━━━━━━\u001b[0m\u001b[37m\u001b[0m \u001b[1m0s\u001b[0m 794ms/step - accuracy: 0.6766 - loss: 0.7233"
     ]
    },
    {
     "name": "stderr",
     "output_type": "stream",
     "text": [
      "2025-10-10 09:43:22.728631: I external/local_xla/xla/service/gpu/autotuning/dot_search_space.cc:208] All configs were filtered out because none of them sufficiently match the hints. Maybe the hints set does not contain a good representative set of valid configs? Working around this by using the full hints set instead.\n",
      "2025-10-10 09:43:23.114950: I external/local_xla/xla/stream_executor/cuda/subprocess_compilation.cc:346] ptxas warning : Registers are spilled to local memory in function 'gemm_fusion_dot_3399', 8 bytes spill stores, 8 bytes spill loads\n",
      "\n",
      "2025-10-10 09:43:23.478409: I external/local_xla/xla/stream_executor/cuda/subprocess_compilation.cc:346] ptxas warning : Registers are spilled to local memory in function 'gemm_fusion_dot_3406', 20 bytes spill stores, 20 bytes spill loads\n",
      "\n",
      "2025-10-10 09:43:36.185512: I external/local_xla/xla/stream_executor/cuda/subprocess_compilation.cc:346] ptxas warning : Registers are spilled to local memory in function 'gemm_fusion_dot_3399', 8 bytes spill stores, 8 bytes spill loads\n",
      "\n"
     ]
    },
    {
     "name": "stdout",
     "output_type": "stream",
     "text": [
      "\n",
      "Epoch 1: val_accuracy improved from None to 0.99176, saving model to skin_diseases_model.h5\n"
     ]
    },
    {
     "name": "stderr",
     "output_type": "stream",
     "text": [
      "WARNING:absl:You are saving your model as an HDF5 file via `model.save()` or `keras.saving.save_model(model)`. This file format is considered legacy. We recommend using instead the native Keras format, e.g. `model.save('my_model.keras')` or `keras.saving.save_model(model, 'my_model.keras')`. \n"
     ]
    },
    {
     "name": "stdout",
     "output_type": "stream",
     "text": [
      "\u001b[1m95/95\u001b[0m \u001b[32m━━━━━━━━━━━━━━━━━━━━\u001b[0m\u001b[37m\u001b[0m \u001b[1m144s\u001b[0m 1s/step - accuracy: 0.8382 - loss: 0.3862 - val_accuracy: 0.9918 - val_loss: 0.2119 - learning_rate: 1.0000e-04\n",
      "Epoch 2/10\n",
      "\u001b[1m95/95\u001b[0m \u001b[32m━━━━━━━━━━━━━━━━━━━━\u001b[0m\u001b[37m\u001b[0m \u001b[1m0s\u001b[0m 371ms/step - accuracy: 0.9739 - loss: 0.0939\n",
      "Epoch 2: val_accuracy improved from 0.99176 to 0.99725, saving model to skin_diseases_model.h5\n"
     ]
    },
    {
     "name": "stderr",
     "output_type": "stream",
     "text": [
      "WARNING:absl:You are saving your model as an HDF5 file via `model.save()` or `keras.saving.save_model(model)`. This file format is considered legacy. We recommend using instead the native Keras format, e.g. `model.save('my_model.keras')` or `keras.saving.save_model(model, 'my_model.keras')`. \n"
     ]
    },
    {
     "name": "stdout",
     "output_type": "stream",
     "text": [
      "\u001b[1m95/95\u001b[0m \u001b[32m━━━━━━━━━━━━━━━━━━━━\u001b[0m\u001b[37m\u001b[0m \u001b[1m40s\u001b[0m 421ms/step - accuracy: 0.9779 - loss: 0.0804 - val_accuracy: 0.9973 - val_loss: 0.0790 - learning_rate: 1.0000e-04\n",
      "Epoch 3/10\n",
      "\u001b[1m95/95\u001b[0m \u001b[32m━━━━━━━━━━━━━━━━━━━━\u001b[0m\u001b[37m\u001b[0m \u001b[1m0s\u001b[0m 410ms/step - accuracy: 0.9800 - loss: 0.0619\n",
      "Epoch 3: val_accuracy did not improve from 0.99725\n",
      "\u001b[1m95/95\u001b[0m \u001b[32m━━━━━━━━━━━━━━━━━━━━\u001b[0m\u001b[37m\u001b[0m \u001b[1m43s\u001b[0m 454ms/step - accuracy: 0.9855 - loss: 0.0507 - val_accuracy: 0.9973 - val_loss: 0.0364 - learning_rate: 1.0000e-04\n",
      "Epoch 4/10\n",
      "\u001b[1m95/95\u001b[0m \u001b[32m━━━━━━━━━━━━━━━━━━━━\u001b[0m\u001b[37m\u001b[0m \u001b[1m0s\u001b[0m 394ms/step - accuracy: 0.9897 - loss: 0.0404\n",
      "Epoch 4: val_accuracy did not improve from 0.99725\n",
      "\u001b[1m95/95\u001b[0m \u001b[32m━━━━━━━━━━━━━━━━━━━━\u001b[0m\u001b[37m\u001b[0m \u001b[1m41s\u001b[0m 431ms/step - accuracy: 0.9891 - loss: 0.0384 - val_accuracy: 0.9973 - val_loss: 0.0164 - learning_rate: 1.0000e-04\n",
      "Epoch 5/10\n",
      "\u001b[1m95/95\u001b[0m \u001b[32m━━━━━━━━━━━━━━━━━━━━\u001b[0m\u001b[37m\u001b[0m \u001b[1m0s\u001b[0m 390ms/step - accuracy: 0.9940 - loss: 0.0262\n",
      "Epoch 5: val_accuracy improved from 0.99725 to 1.00000, saving model to skin_diseases_model.h5\n"
     ]
    },
    {
     "name": "stderr",
     "output_type": "stream",
     "text": [
      "WARNING:absl:You are saving your model as an HDF5 file via `model.save()` or `keras.saving.save_model(model)`. This file format is considered legacy. We recommend using instead the native Keras format, e.g. `model.save('my_model.keras')` or `keras.saving.save_model(model, 'my_model.keras')`. \n"
     ]
    },
    {
     "name": "stdout",
     "output_type": "stream",
     "text": [
      "\u001b[1m95/95\u001b[0m \u001b[32m━━━━━━━━━━━━━━━━━━━━\u001b[0m\u001b[37m\u001b[0m \u001b[1m41s\u001b[0m 434ms/step - accuracy: 0.9937 - loss: 0.0259 - val_accuracy: 1.0000 - val_loss: 0.0108 - learning_rate: 1.0000e-04\n",
      "Epoch 6/10\n",
      "\u001b[1m95/95\u001b[0m \u001b[32m━━━━━━━━━━━━━━━━━━━━\u001b[0m\u001b[37m\u001b[0m \u001b[1m0s\u001b[0m 601ms/step - accuracy: 0.9923 - loss: 0.0283\n",
      "Epoch 6: val_accuracy did not improve from 1.00000\n",
      "\u001b[1m95/95\u001b[0m \u001b[32m━━━━━━━━━━━━━━━━━━━━\u001b[0m\u001b[37m\u001b[0m \u001b[1m63s\u001b[0m 660ms/step - accuracy: 0.9914 - loss: 0.0287 - val_accuracy: 1.0000 - val_loss: 0.0053 - learning_rate: 1.0000e-04\n",
      "Epoch 7/10\n",
      "\u001b[1m95/95\u001b[0m \u001b[32m━━━━━━━━━━━━━━━━━━━━\u001b[0m\u001b[37m\u001b[0m \u001b[1m0s\u001b[0m 406ms/step - accuracy: 0.9923 - loss: 0.0298\n",
      "Epoch 7: val_accuracy did not improve from 1.00000\n",
      "\u001b[1m95/95\u001b[0m \u001b[32m━━━━━━━━━━━━━━━━━━━━\u001b[0m\u001b[37m\u001b[0m \u001b[1m42s\u001b[0m 440ms/step - accuracy: 0.9941 - loss: 0.0224 - val_accuracy: 1.0000 - val_loss: 0.0045 - learning_rate: 1.0000e-04\n",
      "Epoch 8/10\n",
      "\u001b[1m95/95\u001b[0m \u001b[32m━━━━━━━━━━━━━━━━━━━━\u001b[0m\u001b[37m\u001b[0m \u001b[1m0s\u001b[0m 359ms/step - accuracy: 0.9938 - loss: 0.0187\n",
      "Epoch 8: val_accuracy did not improve from 1.00000\n",
      "\u001b[1m95/95\u001b[0m \u001b[32m━━━━━━━━━━━━━━━━━━━━\u001b[0m\u001b[37m\u001b[0m \u001b[1m37s\u001b[0m 393ms/step - accuracy: 0.9934 - loss: 0.0202 - val_accuracy: 1.0000 - val_loss: 0.0023 - learning_rate: 1.0000e-04\n",
      "Epoch 9/10\n",
      "\u001b[1m95/95\u001b[0m \u001b[32m━━━━━━━━━━━━━━━━━━━━\u001b[0m\u001b[37m\u001b[0m \u001b[1m0s\u001b[0m 375ms/step - accuracy: 0.9952 - loss: 0.0190\n",
      "Epoch 9: val_accuracy did not improve from 1.00000\n",
      "\u001b[1m95/95\u001b[0m \u001b[32m━━━━━━━━━━━━━━━━━━━━\u001b[0m\u001b[37m\u001b[0m \u001b[1m39s\u001b[0m 409ms/step - accuracy: 0.9964 - loss: 0.0152 - val_accuracy: 1.0000 - val_loss: 0.0013 - learning_rate: 1.0000e-04\n",
      "Epoch 10/10\n",
      "\u001b[1m95/95\u001b[0m \u001b[32m━━━━━━━━━━━━━━━━━━━━\u001b[0m\u001b[37m\u001b[0m \u001b[1m0s\u001b[0m 370ms/step - accuracy: 0.9973 - loss: 0.0118\n",
      "Epoch 10: val_accuracy did not improve from 1.00000\n",
      "\u001b[1m95/95\u001b[0m \u001b[32m━━━━━━━━━━━━━━━━━━━━\u001b[0m\u001b[37m\u001b[0m \u001b[1m38s\u001b[0m 404ms/step - accuracy: 0.9967 - loss: 0.0120 - val_accuracy: 1.0000 - val_loss: 0.0012 - learning_rate: 1.0000e-04\n",
      "🔹 Phase 2: Fine-tuning base model...\n",
      "Epoch 1/30\n",
      "\u001b[1m95/95\u001b[0m \u001b[32m━━━━━━━━━━━━━━━━━━━━\u001b[0m\u001b[37m\u001b[0m \u001b[1m0s\u001b[0m 514ms/step - accuracy: 0.9931 - loss: 0.0202\n",
      "Epoch 1: val_accuracy did not improve from 1.00000\n",
      "\u001b[1m95/95\u001b[0m \u001b[32m━━━━━━━━━━━━━━━━━━━━\u001b[0m\u001b[37m\u001b[0m \u001b[1m89s\u001b[0m 687ms/step - accuracy: 0.9937 - loss: 0.0209 - val_accuracy: 1.0000 - val_loss: 0.0011 - learning_rate: 1.0000e-05\n",
      "Epoch 2/30\n",
      "\u001b[1m95/95\u001b[0m \u001b[32m━━━━━━━━━━━━━━━━━━━━\u001b[0m\u001b[37m\u001b[0m \u001b[1m0s\u001b[0m 367ms/step - accuracy: 0.9917 - loss: 0.0211\n",
      "Epoch 2: val_accuracy did not improve from 1.00000\n",
      "\u001b[1m95/95\u001b[0m \u001b[32m━━━━━━━━━━━━━━━━━━━━\u001b[0m\u001b[37m\u001b[0m \u001b[1m38s\u001b[0m 401ms/step - accuracy: 0.9931 - loss: 0.0204 - val_accuracy: 1.0000 - val_loss: 7.7525e-04 - learning_rate: 1.0000e-05\n",
      "Epoch 3/30\n",
      "\u001b[1m95/95\u001b[0m \u001b[32m━━━━━━━━━━━━━━━━━━━━\u001b[0m\u001b[37m\u001b[0m \u001b[1m0s\u001b[0m 387ms/step - accuracy: 0.9952 - loss: 0.0189\n",
      "Epoch 3: val_accuracy did not improve from 1.00000\n",
      "\u001b[1m95/95\u001b[0m \u001b[32m━━━━━━━━━━━━━━━━━━━━\u001b[0m\u001b[37m\u001b[0m \u001b[1m39s\u001b[0m 406ms/step - accuracy: 0.9934 - loss: 0.0199 - val_accuracy: 1.0000 - val_loss: 6.5829e-04 - learning_rate: 1.0000e-05\n",
      "Epoch 4/30\n",
      "\u001b[1m95/95\u001b[0m \u001b[32m━━━━━━━━━━━━━━━━━━━━\u001b[0m\u001b[37m\u001b[0m \u001b[1m0s\u001b[0m 435ms/step - accuracy: 0.9934 - loss: 0.0214\n",
      "Epoch 4: val_accuracy did not improve from 1.00000\n",
      "\u001b[1m95/95\u001b[0m \u001b[32m━━━━━━━━━━━━━━━━━━━━\u001b[0m\u001b[37m\u001b[0m \u001b[1m45s\u001b[0m 473ms/step - accuracy: 0.9921 - loss: 0.0206 - val_accuracy: 1.0000 - val_loss: 6.0856e-04 - learning_rate: 1.0000e-05\n",
      "Epoch 5/30\n",
      "\u001b[1m95/95\u001b[0m \u001b[32m━━━━━━━━━━━━━━━━━━━━\u001b[0m\u001b[37m\u001b[0m \u001b[1m0s\u001b[0m 406ms/step - accuracy: 0.9946 - loss: 0.0119\n",
      "Epoch 5: val_accuracy did not improve from 1.00000\n",
      "\u001b[1m95/95\u001b[0m \u001b[32m━━━━━━━━━━━━━━━━━━━━\u001b[0m\u001b[37m\u001b[0m \u001b[1m42s\u001b[0m 445ms/step - accuracy: 0.9954 - loss: 0.0132 - val_accuracy: 1.0000 - val_loss: 5.0344e-04 - learning_rate: 1.0000e-05\n",
      "Epoch 6/30\n",
      "\u001b[1m95/95\u001b[0m \u001b[32m━━━━━━━━━━━━━━━━━━━━\u001b[0m\u001b[37m\u001b[0m \u001b[1m0s\u001b[0m 384ms/step - accuracy: 0.9966 - loss: 0.0110\n",
      "Epoch 6: val_accuracy did not improve from 1.00000\n",
      "\u001b[1m95/95\u001b[0m \u001b[32m━━━━━━━━━━━━━━━━━━━━\u001b[0m\u001b[37m\u001b[0m \u001b[1m39s\u001b[0m 405ms/step - accuracy: 0.9957 - loss: 0.0120 - val_accuracy: 1.0000 - val_loss: 4.8933e-04 - learning_rate: 1.0000e-05\n",
      "Epoch 7/30\n",
      "\u001b[1m95/95\u001b[0m \u001b[32m━━━━━━━━━━━━━━━━━━━━\u001b[0m\u001b[37m\u001b[0m \u001b[1m0s\u001b[0m 399ms/step - accuracy: 0.9970 - loss: 0.0116\n",
      "Epoch 7: val_accuracy did not improve from 1.00000\n",
      "\u001b[1m95/95\u001b[0m \u001b[32m━━━━━━━━━━━━━━━━━━━━\u001b[0m\u001b[37m\u001b[0m \u001b[1m41s\u001b[0m 432ms/step - accuracy: 0.9964 - loss: 0.0136 - val_accuracy: 1.0000 - val_loss: 4.1816e-04 - learning_rate: 1.0000e-05\n",
      "Epoch 8/30\n",
      "\u001b[1m95/95\u001b[0m \u001b[32m━━━━━━━━━━━━━━━━━━━━\u001b[0m\u001b[37m\u001b[0m \u001b[1m0s\u001b[0m 362ms/step - accuracy: 0.9969 - loss: 0.0125\n",
      "Epoch 8: val_accuracy did not improve from 1.00000\n",
      "\u001b[1m95/95\u001b[0m \u001b[32m━━━━━━━━━━━━━━━━━━━━\u001b[0m\u001b[37m\u001b[0m \u001b[1m38s\u001b[0m 397ms/step - accuracy: 0.9960 - loss: 0.0138 - val_accuracy: 1.0000 - val_loss: 4.0920e-04 - learning_rate: 1.0000e-05\n",
      "Epoch 9/30\n",
      "\u001b[1m95/95\u001b[0m \u001b[32m━━━━━━━━━━━━━━━━━━━━\u001b[0m\u001b[37m\u001b[0m \u001b[1m0s\u001b[0m 382ms/step - accuracy: 0.9956 - loss: 0.0120\n",
      "Epoch 9: val_accuracy did not improve from 1.00000\n",
      "\u001b[1m95/95\u001b[0m \u001b[32m━━━━━━━━━━━━━━━━━━━━\u001b[0m\u001b[37m\u001b[0m \u001b[1m40s\u001b[0m 415ms/step - accuracy: 0.9950 - loss: 0.0134 - val_accuracy: 1.0000 - val_loss: 4.0222e-04 - learning_rate: 2.0000e-06\n",
      "Epoch 10/30\n",
      "\u001b[1m95/95\u001b[0m \u001b[32m━━━━━━━━━━━━━━━━━━━━\u001b[0m\u001b[37m\u001b[0m \u001b[1m0s\u001b[0m 377ms/step - accuracy: 0.9953 - loss: 0.0111\n",
      "Epoch 10: val_accuracy did not improve from 1.00000\n",
      "\u001b[1m95/95\u001b[0m \u001b[32m━━━━━━━━━━━━━━━━━━━━\u001b[0m\u001b[37m\u001b[0m \u001b[1m38s\u001b[0m 396ms/step - accuracy: 0.9950 - loss: 0.0110 - val_accuracy: 1.0000 - val_loss: 3.9594e-04 - learning_rate: 2.0000e-06\n",
      "Epoch 11/30\n",
      "\u001b[1m95/95\u001b[0m \u001b[32m━━━━━━━━━━━━━━━━━━━━\u001b[0m\u001b[37m\u001b[0m \u001b[1m0s\u001b[0m 373ms/step - accuracy: 0.9971 - loss: 0.0103\n",
      "Epoch 11: val_accuracy did not improve from 1.00000\n",
      "\u001b[1m95/95\u001b[0m \u001b[32m━━━━━━━━━━━━━━━━━━━━\u001b[0m\u001b[37m\u001b[0m \u001b[1m39s\u001b[0m 406ms/step - accuracy: 0.9967 - loss: 0.0098 - val_accuracy: 1.0000 - val_loss: 3.8305e-04 - learning_rate: 2.0000e-06\n",
      "Epoch 12/30\n",
      "\u001b[1m95/95\u001b[0m \u001b[32m━━━━━━━━━━━━━━━━━━━━\u001b[0m\u001b[37m\u001b[0m \u001b[1m0s\u001b[0m 371ms/step - accuracy: 0.9962 - loss: 0.0139\n",
      "Epoch 12: val_accuracy did not improve from 1.00000\n",
      "\u001b[1m95/95\u001b[0m \u001b[32m━━━━━━━━━━━━━━━━━━━━\u001b[0m\u001b[37m\u001b[0m \u001b[1m39s\u001b[0m 405ms/step - accuracy: 0.9960 - loss: 0.0124 - val_accuracy: 1.0000 - val_loss: 3.6776e-04 - learning_rate: 2.0000e-06\n",
      "Epoch 13/30\n",
      "\u001b[1m95/95\u001b[0m \u001b[32m━━━━━━━━━━━━━━━━━━━━\u001b[0m\u001b[37m\u001b[0m \u001b[1m0s\u001b[0m 366ms/step - accuracy: 0.9966 - loss: 0.0105\n",
      "Epoch 13: val_accuracy did not improve from 1.00000\n",
      "\u001b[1m95/95\u001b[0m \u001b[32m━━━━━━━━━━━━━━━━━━━━\u001b[0m\u001b[37m\u001b[0m \u001b[1m38s\u001b[0m 399ms/step - accuracy: 0.9960 - loss: 0.0136 - val_accuracy: 1.0000 - val_loss: 3.6412e-04 - learning_rate: 1.0000e-06\n",
      "Epoch 14/30\n",
      "\u001b[1m95/95\u001b[0m \u001b[32m━━━━━━━━━━━━━━━━━━━━\u001b[0m\u001b[37m\u001b[0m \u001b[1m0s\u001b[0m 370ms/step - accuracy: 0.9949 - loss: 0.0204\n",
      "Epoch 14: val_accuracy did not improve from 1.00000\n",
      "\u001b[1m95/95\u001b[0m \u001b[32m━━━━━━━━━━━━━━━━━━━━\u001b[0m\u001b[37m\u001b[0m \u001b[1m38s\u001b[0m 402ms/step - accuracy: 0.9967 - loss: 0.0157 - val_accuracy: 1.0000 - val_loss: 3.6654e-04 - learning_rate: 1.0000e-06\n",
      "Epoch 15/30\n",
      "\u001b[1m95/95\u001b[0m \u001b[32m━━━━━━━━━━━━━━━━━━━━\u001b[0m\u001b[37m\u001b[0m \u001b[1m0s\u001b[0m 369ms/step - accuracy: 0.9936 - loss: 0.0133\n",
      "Epoch 15: val_accuracy did not improve from 1.00000\n",
      "\u001b[1m95/95\u001b[0m \u001b[32m━━━━━━━━━━━━━━━━━━━━\u001b[0m\u001b[37m\u001b[0m \u001b[1m38s\u001b[0m 404ms/step - accuracy: 0.9957 - loss: 0.0120 - val_accuracy: 1.0000 - val_loss: 3.5740e-04 - learning_rate: 1.0000e-06\n",
      "Epoch 16/30\n",
      "\u001b[1m95/95\u001b[0m \u001b[32m━━━━━━━━━━━━━━━━━━━━\u001b[0m\u001b[37m\u001b[0m \u001b[1m0s\u001b[0m 380ms/step - accuracy: 0.9967 - loss: 0.0098\n",
      "Epoch 16: val_accuracy did not improve from 1.00000\n",
      "\u001b[1m95/95\u001b[0m \u001b[32m━━━━━━━━━━━━━━━━━━━━\u001b[0m\u001b[37m\u001b[0m \u001b[1m39s\u001b[0m 414ms/step - accuracy: 0.9974 - loss: 0.0090 - val_accuracy: 1.0000 - val_loss: 3.5243e-04 - learning_rate: 1.0000e-06\n",
      "Epoch 17/30\n",
      "\u001b[1m95/95\u001b[0m \u001b[32m━━━━━━━━━━━━━━━━━━━━\u001b[0m\u001b[37m\u001b[0m \u001b[1m0s\u001b[0m 446ms/step - accuracy: 0.9974 - loss: 0.0106\n",
      "Epoch 17: val_accuracy did not improve from 1.00000\n",
      "\u001b[1m95/95\u001b[0m \u001b[32m━━━━━━━━━━━━━━━━━━━━\u001b[0m\u001b[37m\u001b[0m \u001b[1m46s\u001b[0m 482ms/step - accuracy: 0.9960 - loss: 0.0128 - val_accuracy: 1.0000 - val_loss: 3.4976e-04 - learning_rate: 1.0000e-06\n",
      "Epoch 18/30\n",
      "\u001b[1m95/95\u001b[0m \u001b[32m━━━━━━━━━━━━━━━━━━━━\u001b[0m\u001b[37m\u001b[0m \u001b[1m0s\u001b[0m 347ms/step - accuracy: 0.9962 - loss: 0.0132\n",
      "Epoch 18: val_accuracy did not improve from 1.00000\n",
      "\u001b[1m95/95\u001b[0m \u001b[32m━━━━━━━━━━━━━━━━━━━━\u001b[0m\u001b[37m\u001b[0m \u001b[1m36s\u001b[0m 381ms/step - accuracy: 0.9957 - loss: 0.0122 - val_accuracy: 1.0000 - val_loss: 3.4469e-04 - learning_rate: 1.0000e-06\n",
      "Epoch 19/30\n",
      "\u001b[1m95/95\u001b[0m \u001b[32m━━━━━━━━━━━━━━━━━━━━\u001b[0m\u001b[37m\u001b[0m \u001b[1m0s\u001b[0m 361ms/step - accuracy: 0.9955 - loss: 0.0156\n",
      "Epoch 19: val_accuracy did not improve from 1.00000\n",
      "\u001b[1m95/95\u001b[0m \u001b[32m━━━━━━━━━━━━━━━━━━━━\u001b[0m\u001b[37m\u001b[0m \u001b[1m38s\u001b[0m 395ms/step - accuracy: 0.9977 - loss: 0.0098 - val_accuracy: 1.0000 - val_loss: 3.3845e-04 - learning_rate: 1.0000e-06\n",
      "Epoch 20/30\n",
      "\u001b[1m95/95\u001b[0m \u001b[32m━━━━━━━━━━━━━━━━━━━━\u001b[0m\u001b[37m\u001b[0m \u001b[1m0s\u001b[0m 394ms/step - accuracy: 0.9981 - loss: 0.0086\n",
      "Epoch 20: val_accuracy did not improve from 1.00000\n",
      "\u001b[1m95/95\u001b[0m \u001b[32m━━━━━━━━━━━━━━━━━━━━\u001b[0m\u001b[37m\u001b[0m \u001b[1m40s\u001b[0m 425ms/step - accuracy: 0.9974 - loss: 0.0105 - val_accuracy: 1.0000 - val_loss: 3.3857e-04 - learning_rate: 1.0000e-06\n",
      "Epoch 21/30\n",
      "\u001b[1m95/95\u001b[0m \u001b[32m━━━━━━━━━━━━━━━━━━━━\u001b[0m\u001b[37m\u001b[0m \u001b[1m0s\u001b[0m 378ms/step - accuracy: 0.9959 - loss: 0.0120\n",
      "Epoch 21: val_accuracy did not improve from 1.00000\n",
      "\u001b[1m95/95\u001b[0m \u001b[32m━━━━━━━━━━━━━━━━━━━━\u001b[0m\u001b[37m\u001b[0m \u001b[1m39s\u001b[0m 410ms/step - accuracy: 0.9967 - loss: 0.0116 - val_accuracy: 1.0000 - val_loss: 3.4446e-04 - learning_rate: 1.0000e-06\n",
      "Epoch 22/30\n",
      "\u001b[1m95/95\u001b[0m \u001b[32m━━━━━━━━━━━━━━━━━━━━\u001b[0m\u001b[37m\u001b[0m \u001b[1m0s\u001b[0m 374ms/step - accuracy: 0.9933 - loss: 0.0219\n",
      "Epoch 22: val_accuracy did not improve from 1.00000\n",
      "\u001b[1m95/95\u001b[0m \u001b[32m━━━━━━━━━━━━━━━━━━━━\u001b[0m\u001b[37m\u001b[0m \u001b[1m37s\u001b[0m 389ms/step - accuracy: 0.9954 - loss: 0.0151 - val_accuracy: 1.0000 - val_loss: 3.3447e-04 - learning_rate: 1.0000e-06\n",
      "Epoch 23/30\n",
      "\u001b[1m95/95\u001b[0m \u001b[32m━━━━━━━━━━━━━━━━━━━━\u001b[0m\u001b[37m\u001b[0m \u001b[1m0s\u001b[0m 367ms/step - accuracy: 0.9952 - loss: 0.0113\n",
      "Epoch 23: val_accuracy did not improve from 1.00000\n",
      "\u001b[1m95/95\u001b[0m \u001b[32m━━━━━━━━━━━━━━━━━━━━\u001b[0m\u001b[37m\u001b[0m \u001b[1m38s\u001b[0m 399ms/step - accuracy: 0.9957 - loss: 0.0128 - val_accuracy: 1.0000 - val_loss: 3.3228e-04 - learning_rate: 1.0000e-06\n",
      "Epoch 24/30\n",
      "\u001b[1m95/95\u001b[0m \u001b[32m━━━━━━━━━━━━━━━━━━━━\u001b[0m\u001b[37m\u001b[0m \u001b[1m0s\u001b[0m 354ms/step - accuracy: 0.9978 - loss: 0.0087\n",
      "Epoch 24: val_accuracy did not improve from 1.00000\n",
      "\u001b[1m95/95\u001b[0m \u001b[32m━━━━━━━━━━━━━━━━━━━━\u001b[0m\u001b[37m\u001b[0m \u001b[1m37s\u001b[0m 385ms/step - accuracy: 0.9967 - loss: 0.0116 - val_accuracy: 1.0000 - val_loss: 3.2077e-04 - learning_rate: 1.0000e-06\n",
      "Epoch 25/30\n",
      "\u001b[1m95/95\u001b[0m \u001b[32m━━━━━━━━━━━━━━━━━━━━\u001b[0m\u001b[37m\u001b[0m \u001b[1m0s\u001b[0m 355ms/step - accuracy: 0.9958 - loss: 0.0110\n",
      "Epoch 25: val_accuracy did not improve from 1.00000\n",
      "\u001b[1m95/95\u001b[0m \u001b[32m━━━━━━━━━━━━━━━━━━━━\u001b[0m\u001b[37m\u001b[0m \u001b[1m37s\u001b[0m 386ms/step - accuracy: 0.9964 - loss: 0.0102 - val_accuracy: 1.0000 - val_loss: 3.2365e-04 - learning_rate: 1.0000e-06\n",
      "Epoch 26/30\n",
      "\u001b[1m95/95\u001b[0m \u001b[32m━━━━━━━━━━━━━━━━━━━━\u001b[0m\u001b[37m\u001b[0m \u001b[1m0s\u001b[0m 353ms/step - accuracy: 0.9951 - loss: 0.0140\n",
      "Epoch 26: val_accuracy did not improve from 1.00000\n",
      "\u001b[1m95/95\u001b[0m \u001b[32m━━━━━━━━━━━━━━━━━━━━\u001b[0m\u001b[37m\u001b[0m \u001b[1m37s\u001b[0m 385ms/step - accuracy: 0.9967 - loss: 0.0116 - val_accuracy: 1.0000 - val_loss: 3.1808e-04 - learning_rate: 1.0000e-06\n",
      "Epoch 27/30\n",
      "\u001b[1m95/95\u001b[0m \u001b[32m━━━━━━━━━━━━━━━━━━━━\u001b[0m\u001b[37m\u001b[0m \u001b[1m0s\u001b[0m 362ms/step - accuracy: 0.9975 - loss: 0.0092\n",
      "Epoch 27: val_accuracy did not improve from 1.00000\n",
      "\u001b[1m95/95\u001b[0m \u001b[32m━━━━━━━━━━━━━━━━━━━━\u001b[0m\u001b[37m\u001b[0m \u001b[1m38s\u001b[0m 396ms/step - accuracy: 0.9964 - loss: 0.0110 - val_accuracy: 1.0000 - val_loss: 3.0948e-04 - learning_rate: 1.0000e-06\n",
      "Epoch 28/30\n",
      "\u001b[1m95/95\u001b[0m \u001b[32m━━━━━━━━━━━━━━━━━━━━\u001b[0m\u001b[37m\u001b[0m \u001b[1m0s\u001b[0m 359ms/step - accuracy: 0.9954 - loss: 0.0172\n",
      "Epoch 28: val_accuracy did not improve from 1.00000\n",
      "\u001b[1m95/95\u001b[0m \u001b[32m━━━━━━━━━━━━━━━━━━━━\u001b[0m\u001b[37m\u001b[0m \u001b[1m37s\u001b[0m 391ms/step - accuracy: 0.9967 - loss: 0.0119 - val_accuracy: 1.0000 - val_loss: 3.1158e-04 - learning_rate: 1.0000e-06\n",
      "Epoch 29/30\n",
      "\u001b[1m95/95\u001b[0m \u001b[32m━━━━━━━━━━━━━━━━━━━━\u001b[0m\u001b[37m\u001b[0m \u001b[1m0s\u001b[0m 370ms/step - accuracy: 0.9941 - loss: 0.0170\n",
      "Epoch 29: val_accuracy did not improve from 1.00000\n",
      "\u001b[1m95/95\u001b[0m \u001b[32m━━━━━━━━━━━━━━━━━━━━\u001b[0m\u001b[37m\u001b[0m \u001b[1m38s\u001b[0m 403ms/step - accuracy: 0.9954 - loss: 0.0138 - val_accuracy: 1.0000 - val_loss: 3.0882e-04 - learning_rate: 1.0000e-06\n",
      "Epoch 30/30\n",
      "\u001b[1m95/95\u001b[0m \u001b[32m━━━━━━━━━━━━━━━━━━━━\u001b[0m\u001b[37m\u001b[0m \u001b[1m0s\u001b[0m 361ms/step - accuracy: 0.9972 - loss: 0.0121\n",
      "Epoch 30: val_accuracy did not improve from 1.00000\n",
      "\u001b[1m95/95\u001b[0m \u001b[32m━━━━━━━━━━━━━━━━━━━━\u001b[0m\u001b[37m\u001b[0m \u001b[1m37s\u001b[0m 393ms/step - accuracy: 0.9983 - loss: 0.0087 - val_accuracy: 1.0000 - val_loss: 3.0124e-04 - learning_rate: 1.0000e-06\n",
      "📦 Loading best model weights...\n",
      "📊 Evaluating model on test set...\n",
      "\u001b[1m11/12\u001b[0m \u001b[32m━━━━━━━━━━━━━━━━━━\u001b[0m\u001b[37m━━\u001b[0m \u001b[1m0s\u001b[0m 230ms/step"
     ]
    },
    {
     "name": "stderr",
     "output_type": "stream",
     "text": [
      "2025-10-10 10:10:49.362757: I external/local_xla/xla/stream_executor/cuda/subprocess_compilation.cc:346] ptxas warning : Registers are spilled to local memory in function 'gemm_fusion_dot_3344', 8 bytes spill stores, 8 bytes spill loads\n",
      "\n"
     ]
    },
    {
     "name": "stdout",
     "output_type": "stream",
     "text": [
      "\u001b[1m12/12\u001b[0m \u001b[32m━━━━━━━━━━━━━━━━━━━━\u001b[0m\u001b[37m\u001b[0m \u001b[1m27s\u001b[0m 2s/step\n",
      "\n",
      "✅ Test Accuracy: 0.9889\n",
      "\n",
      "📄 Classification Report:\n",
      "                  precision    recall  f1-score   support\n",
      "\n",
      "benign_keratosis       0.98      1.00      0.99       204\n",
      "          eczema       1.00      0.97      0.99       156\n",
      "\n",
      "        accuracy                           0.99       360\n",
      "       macro avg       0.99      0.99      0.99       360\n",
      "    weighted avg       0.99      0.99      0.99       360\n",
      "\n",
      "🔁 Confusion Matrix:\n"
     ]
    },
    {
     "data": {
      "image/png": "[encoded data removed]",
      "text/plain": [
       "<Figure size 600x500 with 2 Axes>"
      ]
     },
     "metadata": {},
     "output_type": "display_data"
    }
   ],
   "source": [
    "if __name__ == \"__main__\":\n",
    "    train_model()"
   ]
  },
  {
   "cell_type": "code",
   "execution_count": 31,
   "id": "bdf08d03-ccac-48ba-a24b-ee7c8c1659df",
   "metadata": {},
   "outputs": [
    {
     "name": "stderr",
     "output_type": "stream",
     "text": [
      "WARNING:absl:Compiled the loaded model, but the compiled metrics have yet to be built. `model.compile_metrics` will be empty until you train or evaluate the model.\n"
     ]
    },
    {
     "name": "stdout",
     "output_type": "stream",
     "text": [
      "🔍 Loaded model from: skin_diseases_model.h5\n",
      "\n",
      "🧪 Classifying 12 images from: /mnt/k/ml/clg_ml/imgs_from_google/domainSpecificClassifier/skin_diseases/\n",
      "\n",
      "be_ke_le.jpeg → Predicted: benign keratosis like lesion (71.15%)\n",
      "be_ke_le2.jpg → Predicted: eczema (82.63%)\n",
      "be_ke_le3.jpg → Predicted: benign keratosis like lesion (72.98%)\n",
      "be_ke_le4.jpg → Predicted: benign keratosis like lesion (100.00%)\n",
      "be_ke_le5.jpg → Predicted: benign keratosis like lesion (99.91%)\n",
      "be_ke_le6.jpg → Predicted: benign keratosis like lesion (99.99%)\n",
      "be_ke_le7.webp → Predicted: eczema (99.32%)\n",
      "be_ke_le8.jpg → Predicted: benign keratosis like lesion (90.31%)\n",
      "ecz9 (157).jpg → Predicted: eczema (99.99%)\n",
      "ecz9 (158).jpg → Predicted: eczema (99.64%)\n",
      "ecz9 (159).jpg → Predicted: eczema (99.92%)\n",
      "ecz9 (160).jpg → Predicted: eczema (99.85%)\n"
     ]
    }
   ],
   "source": [
    "classify_images()"
   ]
  },
  {
   "cell_type": "code",
   "execution_count": null,
   "id": "689236cc-66f3-47e9-a5f2-cb853460017b",
   "metadata": {},
   "outputs": [],
   "source": []
  },
  {
   "cell_type": "code",
   "execution_count": null,
   "id": "f4b53e3f-1a19-4256-bb91-c3f00af52303",
   "metadata": {},
   "outputs": [],
   "source": []
  },
  {
   "cell_type": "code",
   "execution_count": null,
   "id": "ce24a71a-27b9-49b5-a340-ca946d78f401",
   "metadata": {},
   "outputs": [],
   "source": []
  },
  {
   "cell_type": "code",
   "execution_count": null,
   "id": "2e51f7e9-e510-490d-b377-be6cb1fbd9e1",
   "metadata": {},
   "outputs": [],
   "source": []
  },
  {
   "cell_type": "code",
   "execution_count": null,
   "id": "2f115e04-87fa-4d5e-8bb2-f0553f55f612",
   "metadata": {},
   "outputs": [],
   "source": []
  },
  {
   "cell_type": "code",
   "execution_count": null,
   "id": "74fe7726-eb1a-4f39-b3ee-2bb4eacb336a",
   "metadata": {},
   "outputs": [],
   "source": []
  }
 ],
 "metadata": {
  "kernelspec": {
   "display_name": "Python 3 (ipykernel)",
   "language": "python",
   "name": "python3"
  },
  "language_info": {
   "codemirror_mode": {
    "name": "ipython",
    "version": 3
   },
   "file_extension": ".py",
   "mimetype": "text/x-python",
   "name": "python",
   "nbconvert_exporter": "python",
   "pygments_lexer": "ipython3",
   "version": "3.10.12"
  }
 },
 "nbformat": 4,
 "nbformat_minor": 5
}
